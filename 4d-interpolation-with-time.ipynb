{
 "cells": [
  {
   "cell_type": "markdown",
   "metadata": {},
   "source": [
    "using https://splines.readthedocs.io/"
   ]
  },
  {
   "cell_type": "code",
   "execution_count": null,
   "metadata": {},
   "outputs": [],
   "source": [
    "from IPython.display import HTML\n",
    "from matplotlib.animation import FuncAnimation\n",
    "import matplotlib.pyplot as plt\n",
    "import numpy as np"
   ]
  },
  {
   "cell_type": "code",
   "execution_count": null,
   "metadata": {},
   "outputs": [],
   "source": [
    "from scipy.spatial.transform import Rotation, RotationSpline"
   ]
  },
  {
   "cell_type": "code",
   "execution_count": null,
   "metadata": {},
   "outputs": [],
   "source": [
    "import splines"
   ]
  },
  {
   "cell_type": "code",
   "execution_count": null,
   "metadata": {},
   "outputs": [],
   "source": [
    "from splines.quaternion import Quaternion, canonicalized\n",
    "from helper import angles2quat, animate_rotations"
   ]
  },
  {
   "cell_type": "code",
   "execution_count": null,
   "metadata": {},
   "outputs": [],
   "source": [
    "def plot_rotations(rotations, grid):\n",
    "    rotations = [angles2quat(*rot) for rot in rotations]\n",
    "    assert rotations == list(canonicalized(rotations))\n",
    "    vertices = [q.xyzw for q in rotations]\n",
    "    # alpha=0.5: centripetal\n",
    "    s = splines.CatmullRom(vertices, alpha=0.5)\n",
    "    s = splines.NewGridAdapter(s, grid)\n",
    "    times = np.linspace(grid[0], grid[-1], 100)\n",
    "    interpolated = s.evaluate(times)\n",
    "    normalized = [Quaternion(w, (x, y, z)).normalize() for x, y, z, w in interpolated]\n",
    "    s2 = RotationSpline(grid, Rotation([rot.xyzw for rot in (rotations)]))\n",
    "    ani = animate_rotations({\n",
    "        'Catmull-Rom with new grid': normalized,\n",
    "        'SciPy RotationSpline': s2(times).as_quat(),\n",
    "    }, figsize=(6, 3), interval=60)\n",
    "    display(HTML(ani.to_jshtml(default_mode='reflect')))"
   ]
  },
  {
   "cell_type": "code",
   "execution_count": null,
   "metadata": {},
   "outputs": [],
   "source": []
  },
  {
   "cell_type": "code",
   "execution_count": null,
   "metadata": {},
   "outputs": [],
   "source": [
    "plot_rotations([\n",
    "    (0, 0, 0),\n",
    "    (90, 0, 0),\n",
    "    (90, 90, 0),\n",
    "    (90, 90, 90),\n",
    "], [0, 1, 2, 3])"
   ]
  },
  {
   "cell_type": "code",
   "execution_count": null,
   "metadata": {},
   "outputs": [],
   "source": [
    "plot_rotations([\n",
    "    (0, 0, 0),\n",
    "    (90, 0, 0),\n",
    "    (90, 90, 0),\n",
    "    (90, 90, 90),\n",
    "], [0, 1, 2, 10])"
   ]
  },
  {
   "cell_type": "code",
   "execution_count": null,
   "metadata": {},
   "outputs": [],
   "source": [
    "plot_rotations([\n",
    "    (0, 0, 0),\n",
    "    (45, 0, 0),\n",
    "    (90, 45, 0),\n",
    "    (90, 90, 0),\n",
    "    (91, 91, 0),\n",
    "    (180, 0, 90),\n",
    "], [0, 1, 2, 3, 4, 5])"
   ]
  },
  {
   "cell_type": "code",
   "execution_count": null,
   "metadata": {},
   "outputs": [],
   "source": [
    "plot_rotations([\n",
    "    (0, 0, 0),\n",
    "    (45, 0, 0),\n",
    "    (90, 45, 0),\n",
    "    (90, 90, 0),\n",
    "    (91, 91, 0),\n",
    "    (180, 0, 90),\n",
    "], [0, 2, 2.1, 2.2, 3, 6])"
   ]
  },
  {
   "cell_type": "code",
   "execution_count": null,
   "metadata": {},
   "outputs": [],
   "source": []
  }
 ],
 "metadata": {
  "kernelspec": {
   "display_name": "Python 3",
   "language": "python",
   "name": "python3"
  },
  "language_info": {
   "codemirror_mode": {
    "name": "ipython",
    "version": 3
   },
   "file_extension": ".py",
   "mimetype": "text/x-python",
   "name": "python",
   "nbconvert_exporter": "python",
   "pygments_lexer": "ipython3",
   "version": "3.8.3"
  }
 },
 "nbformat": 4,
 "nbformat_minor": 4
}
