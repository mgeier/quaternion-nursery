{
 "cells": [
  {
   "cell_type": "code",
   "execution_count": null,
   "metadata": {},
   "outputs": [],
   "source": [
    "import sympy as sp\n",
    "from sympy.algebras import Quaternion\n",
    "sp.init_printing()"
   ]
  },
  {
   "cell_type": "code",
   "execution_count": null,
   "metadata": {},
   "outputs": [],
   "source": [
    "w, x, y, z = sp.symbols('w:z')"
   ]
  },
  {
   "cell_type": "code",
   "execution_count": null,
   "metadata": {},
   "outputs": [],
   "source": [
    "q = Quaternion(w, x, y, z)\n",
    "q"
   ]
  },
  {
   "cell_type": "code",
   "execution_count": null,
   "metadata": {},
   "outputs": [],
   "source": [
    "q.to_rotation_matrix()"
   ]
  },
  {
   "cell_type": "markdown",
   "metadata": {},
   "source": [
    "Assuming unit quaternions ..."
   ]
  },
  {
   "cell_type": "code",
   "execution_count": null,
   "metadata": {},
   "outputs": [],
   "source": [
    "_.subs(w**2+x**2+y**2+z**2, 1)"
   ]
  },
  {
   "cell_type": "markdown",
   "metadata": {},
   "source": [
    "Shoemake:\n",
    "Quaternions and 4x4 Matrices\n",
    "\n",
    "in Graphics Gems II"
   ]
  },
  {
   "cell_type": "code",
   "execution_count": null,
   "metadata": {},
   "outputs": [],
   "source": [
    "def L(p):\n",
    "    q = Quaternion(sp.Dummy(), sp.Dummy(), sp.Dummy(), sp.Dummy())\n",
    "    pq = p * q\n",
    "    return sp.Matrix([[arg.coeff(elem) for elem in q.args] for arg in pq.args])"
   ]
  },
  {
   "cell_type": "code",
   "execution_count": null,
   "metadata": {},
   "outputs": [],
   "source": [
    "def R(q):\n",
    "    p = Quaternion(sp.Dummy(), sp.Dummy(), sp.Dummy(), sp.Dummy())\n",
    "    pq = p * q\n",
    "    return sp.Matrix([[arg.coeff(elem) for elem in p.args] for arg in pq.args])"
   ]
  },
  {
   "cell_type": "code",
   "execution_count": null,
   "metadata": {},
   "outputs": [],
   "source": [
    "L(q) * R(q.conjugate())"
   ]
  },
  {
   "cell_type": "markdown",
   "metadata": {},
   "source": [
    "Note: Shoemake uses the `[x, y, z, w]` order of quaternion components,\n",
    "while Sympy uses `[w, x, y, z]`.\n",
    "Therefore the rotation matrix is in the lower right corner of the matrix above,\n",
    "while in Shoemake's result it is in the upper left corner\n",
    "(which is the usual convention when using homogeneous coordinates)."
   ]
  }
 ],
 "metadata": {
  "kernelspec": {
   "display_name": "Python 3",
   "language": "python",
   "name": "python3"
  },
  "language_info": {
   "codemirror_mode": {
    "name": "ipython",
    "version": 3
   },
   "file_extension": ".py",
   "mimetype": "text/x-python",
   "name": "python",
   "nbconvert_exporter": "python",
   "pygments_lexer": "ipython3",
   "version": "3.7.4+"
  }
 },
 "nbformat": 4,
 "nbformat_minor": 4
}
