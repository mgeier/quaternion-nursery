{
 "cells": [
  {
   "cell_type": "code",
   "execution_count": null,
   "metadata": {},
   "outputs": [],
   "source": [
    "from IPython.display import HTML\n",
    "import numpy as np\n",
    "from scipy.spatial.transform import Rotation, Slerp, RotationSpline"
   ]
  },
  {
   "cell_type": "code",
   "execution_count": null,
   "metadata": {},
   "outputs": [],
   "source": [
    "from helper import animate_rotations"
   ]
  },
  {
   "cell_type": "code",
   "execution_count": null,
   "metadata": {},
   "outputs": [],
   "source": [
    "rotations = Rotation.from_euler('ZXY', [\n",
    "    [180, 0, 0],\n",
    "    [180, 90, 90],\n",
    "], degrees=True)"
   ]
  },
  {
   "cell_type": "code",
   "execution_count": null,
   "metadata": {},
   "outputs": [],
   "source": [
    "def compare_slerp_and_linear_spline(rot):\n",
    "    slerp = Slerp([0, 1], rot)\n",
    "    spline = RotationSpline([0, 1], rot)\n",
    "    times = np.linspace(0, 1, 100)\n",
    "    ani = animate_rotations({\n",
    "        'slerp': slerp(times).as_quat(),\n",
    "        'spline': spline(times).as_quat(),\n",
    "    }, figsize=(6, 3), interval=30)\n",
    "    display(HTML(ani.to_jshtml(default_mode='reflect')))"
   ]
  },
  {
   "cell_type": "code",
   "execution_count": null,
   "metadata": {},
   "outputs": [],
   "source": [
    "compare_slerp_and_linear_spline(Rotation.from_euler('ZXY', [\n",
    "    [180, 0, 0],\n",
    "    [180, 90, 90],\n",
    "], degrees=True))"
   ]
  },
  {
   "cell_type": "code",
   "execution_count": null,
   "metadata": {},
   "outputs": [],
   "source": [
    "compare_slerp_and_linear_spline(Rotation.from_euler('ZXY', [\n",
    "    [180, 0, 0],\n",
    "    [180, 120, 179],\n",
    "], degrees=True))"
   ]
  },
  {
   "cell_type": "code",
   "execution_count": null,
   "metadata": {},
   "outputs": [],
   "source": []
  },
  {
   "cell_type": "code",
   "execution_count": null,
   "metadata": {},
   "outputs": [],
   "source": []
  }
 ],
 "metadata": {
  "kernelspec": {
   "display_name": "Python 3",
   "language": "python",
   "name": "python3"
  },
  "language_info": {
   "codemirror_mode": {
    "name": "ipython",
    "version": 3
   },
   "file_extension": ".py",
   "mimetype": "text/x-python",
   "name": "python",
   "nbconvert_exporter": "python",
   "pygments_lexer": "ipython3",
   "version": "3.8.3"
  }
 },
 "nbformat": 4,
 "nbformat_minor": 4
}
