{
 "cells": [
  {
   "cell_type": "code",
   "execution_count": null,
   "metadata": {},
   "outputs": [],
   "source": [
    "import pythreejs as three"
   ]
  },
  {
   "cell_type": "code",
   "execution_count": null,
   "metadata": {},
   "outputs": [],
   "source": [
    "ball = three.Mesh(\n",
    "    geometry=three.SphereGeometry(\n",
    "        radius=1,\n",
    "        widthSegments=30,\n",
    "        heightSegments=15,\n",
    "    ), \n",
    "    material=three.MeshLambertMaterial(color='lightgray'),\n",
    "    #position=[2, 1, 0],\n",
    ")\n",
    "three.Preview(ball)"
   ]
  },
  {
   "cell_type": "code",
   "execution_count": null,
   "metadata": {
    "scrolled": true
   },
   "outputs": [],
   "source": [
    "ball2 = three.Mesh(\n",
    "    geometry=three.SphereBufferGeometry(\n",
    "        radius=1,\n",
    "        widthSegments=30,\n",
    "        heightSegments=15,\n",
    "    ),\n",
    "    material=three.MeshLambertMaterial(color='fuchsia'),\n",
    "    #material=three.MeshStandardMaterial(color='fuchsia'),\n",
    "    #material=three.MeshPhysicalMaterial(color='fuchsia'),\n",
    "    #material=three.MeshPhongMaterial(color='fuchsia'),\n",
    "    position=[0.5, 2, 0],\n",
    ")\n",
    "three.Preview(ball2)"
   ]
  },
  {
   "cell_type": "code",
   "execution_count": null,
   "metadata": {},
   "outputs": [],
   "source": [
    "vertices = [\n",
    "    (-0.1, 0, 1),\n",
    "    (-0.2, -0.2, 1),\n",
    "    (0.3, 0, 1),\n",
    "    (-0.2, 0.2, 1),\n",
    "]\n",
    "faces=[\n",
    "    (0, 1, 2, None, None, None),\n",
    "    (2, 3, 0, None, None, None),\n",
    "]"
   ]
  },
  {
   "cell_type": "code",
   "execution_count": null,
   "metadata": {},
   "outputs": [],
   "source": [
    "arrow = three.Mesh(\n",
    "    geometry=three.Geometry(vertices=vertices, faces=faces),\n",
    "    material=three.MeshStandardMaterial(color='red'),\n",
    ")"
   ]
  },
  {
   "cell_type": "code",
   "execution_count": null,
   "metadata": {},
   "outputs": [],
   "source": [
    "arrow.geometry.exec_three_obj_method('computeFaceNormals')"
   ]
  },
  {
   "cell_type": "code",
   "execution_count": null,
   "metadata": {},
   "outputs": [],
   "source": [
    "arrow.geometry.faces"
   ]
  },
  {
   "cell_type": "code",
   "execution_count": null,
   "metadata": {},
   "outputs": [],
   "source": [
    "width = 600\n",
    "height = 400"
   ]
  },
  {
   "cell_type": "code",
   "execution_count": null,
   "metadata": {
    "scrolled": false
   },
   "outputs": [],
   "source": [
    "axes = three.AxesHelper(size=2)\n",
    "point = three.PointLight(\n",
    "    #color=\"#ffffff\",\n",
    "    intensity=0.5,\n",
    "    #distance=0,  # range\n",
    "    position=[10, 0, 0],\n",
    ")\n",
    "amb = three.AmbientLight(\n",
    "    #color='#777777',\n",
    "    #color='gray',\n",
    "    intensity=0.5,\n",
    ")\n",
    "direct = three.DirectionalLight(\n",
    "    #color='white',\n",
    "    position=[1, 0, 0],\n",
    "    intensity=0.6,\n",
    "    #target=ball,\n",
    ")\n",
    "hemi = three.HemisphereLight(\n",
    "    color='green',\n",
    "    groundColor='blue',\n",
    "    #intensity=0.5,\n",
    ")\n",
    "scene = three.Scene(\n",
    "    children=[\n",
    "        ball,\n",
    "        ball2,\n",
    "        amb,\n",
    "        axes,\n",
    "        #point,\n",
    "        direct,\n",
    "        #hemi,\n",
    "        arrow,\n",
    "    ],\n",
    "    #background='blue',\n",
    "    #background=None,\n",
    ")\n",
    "c = three.PerspectiveCamera(\n",
    "    position=[0, 5, 5],\n",
    "    up=[0, 0, 1],\n",
    "    #children=[direct],\n",
    "    aspect=width/height,\n",
    ")\n",
    "\n",
    "#cam = three.PerspectiveCamera(position=[0, 0, 50], fov=75)\n",
    "#cam.lookAt([0, 0, 0])\n",
    "\n",
    "orbit = three.OrbitControls(controlling=c)\n",
    "\n",
    "renderer = three.Renderer(\n",
    "    camera=c, \n",
    "    scene=scene,\n",
    "    controls=[orbit],\n",
    "    width=width,\n",
    "    height=height,\n",
    "    #alpha=True,\n",
    "    #clearOpacity=0.5,\n",
    ")\n",
    "\n",
    "display(renderer)"
   ]
  },
  {
   "cell_type": "code",
   "execution_count": null,
   "metadata": {},
   "outputs": [],
   "source": [
    "import ipywidgets"
   ]
  },
  {
   "cell_type": "code",
   "execution_count": null,
   "metadata": {},
   "outputs": [],
   "source": [
    "show_axes = ipywidgets.Checkbox(description='axes', value=True)"
   ]
  },
  {
   "cell_type": "code",
   "execution_count": null,
   "metadata": {},
   "outputs": [],
   "source": [
    "ipywidgets.jslink((show_axes, 'value'), (axes, 'visible'))"
   ]
  },
  {
   "cell_type": "code",
   "execution_count": null,
   "metadata": {},
   "outputs": [],
   "source": [
    "show_axes"
   ]
  },
  {
   "cell_type": "code",
   "execution_count": null,
   "metadata": {},
   "outputs": [],
   "source": [
    "line_g = three.LineGeometry(positions=[(0, 0, 0), (1, 0, 0), (2, 0.5, 0)])"
   ]
  },
  {
   "cell_type": "code",
   "execution_count": null,
   "metadata": {},
   "outputs": [],
   "source": [
    "line_m = three.LineMaterial(color='red', linewidth=2)"
   ]
  },
  {
   "cell_type": "code",
   "execution_count": null,
   "metadata": {},
   "outputs": [],
   "source": [
    "line2 = three.Line2(geometry=line_g, material=line_m)\n",
    "line2"
   ]
  }
 ],
 "metadata": {
  "kernelspec": {
   "display_name": "Python 3",
   "language": "python",
   "name": "python3"
  },
  "language_info": {
   "codemirror_mode": {
    "name": "ipython",
    "version": 3
   },
   "file_extension": ".py",
   "mimetype": "text/x-python",
   "name": "python",
   "nbconvert_exporter": "python",
   "pygments_lexer": "ipython3",
   "version": "3.7.4+"
  }
 },
 "nbformat": 4,
 "nbformat_minor": 4
}
