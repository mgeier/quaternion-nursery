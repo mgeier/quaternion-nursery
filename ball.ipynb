{
 "cells": [
  {
   "cell_type": "code",
   "execution_count": null,
   "metadata": {},
   "outputs": [],
   "source": [
    "import pythreejs as three"
   ]
  },
  {
   "cell_type": "code",
   "execution_count": null,
   "metadata": {},
   "outputs": [],
   "source": [
    "class Ball:\n",
    "    \n",
    "    def __init__(self):\n",
    "        self._width = 600\n",
    "        self._height = 400\n",
    "        self._ball = three.Mesh(\n",
    "            geometry=three.SphereGeometry(\n",
    "                radius=1,\n",
    "                widthSegments=30,\n",
    "                heightSegments=15,\n",
    "            ),\n",
    "            material=three.MeshLambertMaterial(color='lightgray'),\n",
    "        )\n",
    "        self._axes = three.AxesHelper(size=1.2)\n",
    "        self._ambient_light = three.AmbientLight(\n",
    "            intensity=0.5,\n",
    "        )\n",
    "        self._directional_light1 = three.DirectionalLight(\n",
    "            position=[0, 0, 1],\n",
    "            intensity=0.6,\n",
    "        )\n",
    "        self._directional_light2 = three.DirectionalLight(\n",
    "            position=[0, 0, -1],\n",
    "            intensity=0.6,\n",
    "        )\n",
    "        self._scene = three.Scene(\n",
    "            children=[\n",
    "                self._ball,\n",
    "                self._axes,\n",
    "                self._ambient_light,\n",
    "                self._directional_light1,\n",
    "                self._directional_light2,\n",
    "            ],\n",
    "        )\n",
    "        self._camera = three.PerspectiveCamera(\n",
    "            position=[0, 0, 2.4],\n",
    "            up=[0, 0, 1],\n",
    "            aspect=self._width/self._height,\n",
    "        )\n",
    "        self._controls = three.OrbitControls(controlling=self._camera)\n",
    "        self._renderer = three.Renderer(\n",
    "            camera=self._camera, \n",
    "            scene=self._scene,\n",
    "            controls=[self._controls],\n",
    "            width=self._width,\n",
    "            height=self._height,\n",
    "            #alpha=True,\n",
    "            #clearOpacity=0.5,\n",
    "        )\n",
    "        \n",
    "    def show(self):\n",
    "        # TODO: proper repr?\n",
    "        display(self._renderer)\n",
    "    \n",
    "    def add_arrow(self, quaternion, *, scale=1, color='red', linewidth=2):\n",
    "        vertices = [\n",
    "            (-0.025, 0, 1),\n",
    "            (-0.05, -0.05, 1),\n",
    "            (0.1, 0, 1),\n",
    "            (-0.05, 0.05, 1),\n",
    "            (-0.025, 0, 1),\n",
    "        ]\n",
    "        line = three.Line2(\n",
    "            three.LineGeometry(positions=vertices),\n",
    "            three.LineMaterial(color=color, linewidth=linewidth))\n",
    "        line.scale = scale, scale, 1\n",
    "        line.quaternion = quaternion\n",
    "        self._scene.add(line)\n",
    "        \n",
    "    def add_arrows(self, quaternions, **kwargs):\n",
    "        for quaternion in quaternions:\n",
    "            self.add_arrow(quaternion, **kwargs)"
   ]
  },
  {
   "cell_type": "code",
   "execution_count": null,
   "metadata": {},
   "outputs": [],
   "source": [
    "b = Ball()"
   ]
  },
  {
   "cell_type": "code",
   "execution_count": null,
   "metadata": {
    "scrolled": false
   },
   "outputs": [],
   "source": [
    "b.show()"
   ]
  },
  {
   "cell_type": "code",
   "execution_count": null,
   "metadata": {},
   "outputs": [],
   "source": [
    "b.add_arrow([0, 0, 0, 1], color='green')"
   ]
  },
  {
   "cell_type": "code",
   "execution_count": null,
   "metadata": {},
   "outputs": [],
   "source": []
  }
 ],
 "metadata": {
  "kernelspec": {
   "display_name": "Python 3",
   "language": "python",
   "name": "python3"
  },
  "language_info": {
   "codemirror_mode": {
    "name": "ipython",
    "version": 3
   },
   "file_extension": ".py",
   "mimetype": "text/x-python",
   "name": "python",
   "nbconvert_exporter": "python",
   "pygments_lexer": "ipython3",
   "version": "3.7.6"
  }
 },
 "nbformat": 4,
 "nbformat_minor": 2
}
