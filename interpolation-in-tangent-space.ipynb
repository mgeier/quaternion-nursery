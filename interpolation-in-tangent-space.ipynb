{
 "cells": [
  {
   "cell_type": "code",
   "execution_count": null,
   "metadata": {},
   "outputs": [],
   "source": [
    "from IPython.display import HTML\n",
    "from matplotlib.animation import FuncAnimation\n",
    "import matplotlib.pyplot as plt\n",
    "import numpy as np"
   ]
  },
  {
   "cell_type": "code",
   "execution_count": null,
   "metadata": {},
   "outputs": [],
   "source": [
    "from unit_quaternion import UnitQuaternion"
   ]
  },
  {
   "cell_type": "code",
   "execution_count": null,
   "metadata": {},
   "outputs": [],
   "source": [
    "import splines"
   ]
  },
  {
   "cell_type": "code",
   "execution_count": null,
   "metadata": {},
   "outputs": [],
   "source": [
    "from helper import angles2quat, prepare_axis, update_plot"
   ]
  },
  {
   "cell_type": "code",
   "execution_count": null,
   "metadata": {},
   "outputs": [],
   "source": [
    "q1 = angles2quat(-45, 0, 0)\n",
    "q2 = angles2quat(0, 90, 0)\n",
    "q3 = angles2quat(0, -90, 0)\n",
    "q4 = angles2quat(45, 0, 0)"
   ]
  },
  {
   "cell_type": "code",
   "execution_count": null,
   "metadata": {},
   "outputs": [],
   "source": [
    "s = splines.PiecewiseBezierCurve([[q1.log_map(), q2.log_map(), q3.log_map(), q4.log_map()]])"
   ]
  },
  {
   "cell_type": "code",
   "execution_count": null,
   "metadata": {},
   "outputs": [],
   "source": [
    "s.segments"
   ]
  },
  {
   "cell_type": "code",
   "execution_count": null,
   "metadata": {},
   "outputs": [],
   "source": [
    "def animate_spline(s, frames=100, interval=30, default_mode='reflect'):\n",
    "    times = np.linspace(s.grid[0], s.grid[-1], frames)\n",
    "    rotations = [\n",
    "        UnitQuaternion.exp_map(value)\n",
    "        for value in s.evaluate(times)]\n",
    "\n",
    "    fig, ax = plt.subplots(subplot_kw=dict(projection='dumb3d'))\n",
    "    collections = prepare_axis(1, ax=ax)\n",
    "    plt.close(fig)\n",
    "\n",
    "    def ani_func(rot):\n",
    "        return update_plot(collections, [rot])\n",
    "\n",
    "    ani = FuncAnimation(fig, ani_func, frames=rotations, interval=interval)\n",
    "    display(HTML(ani.to_jshtml(default_mode=default_mode)))"
   ]
  },
  {
   "cell_type": "code",
   "execution_count": null,
   "metadata": {},
   "outputs": [],
   "source": [
    "animate_spline(s)"
   ]
  },
  {
   "cell_type": "code",
   "execution_count": null,
   "metadata": {},
   "outputs": [],
   "source": []
  }
 ],
 "metadata": {
  "kernelspec": {
   "display_name": "Python 3",
   "language": "python",
   "name": "python3"
  },
  "language_info": {
   "codemirror_mode": {
    "name": "ipython",
    "version": 3
   },
   "file_extension": ".py",
   "mimetype": "text/x-python",
   "name": "python",
   "nbconvert_exporter": "python",
   "pygments_lexer": "ipython3",
   "version": "3.8.3"
  }
 },
 "nbformat": 4,
 "nbformat_minor": 4
}
