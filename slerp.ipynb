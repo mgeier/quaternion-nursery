{
 "cells": [
  {
   "cell_type": "markdown",
   "metadata": {},
   "source": [
    "# SLERP"
   ]
  },
  {
   "cell_type": "code",
   "execution_count": null,
   "metadata": {},
   "outputs": [],
   "source": [
    "from IPython.display import HTML"
   ]
  },
  {
   "cell_type": "code",
   "execution_count": null,
   "metadata": {},
   "outputs": [],
   "source": [
    "from matplotlib.animation import FuncAnimation\n",
    "import matplotlib.pyplot as plt\n",
    "import numpy as np"
   ]
  },
  {
   "cell_type": "code",
   "execution_count": null,
   "metadata": {},
   "outputs": [],
   "source": [
    "from unit_quaternion import UnitQuaternion"
   ]
  },
  {
   "cell_type": "code",
   "execution_count": null,
   "metadata": {},
   "outputs": [],
   "source": [
    "from helper import angles2quat, animate_rotations"
   ]
  },
  {
   "cell_type": "code",
   "execution_count": null,
   "metadata": {},
   "outputs": [],
   "source": [
    "# TODO: slerp from (1, (0, 0, 0)) to arbitrary quaternion"
   ]
  },
  {
   "cell_type": "code",
   "execution_count": null,
   "metadata": {},
   "outputs": [],
   "source": [
    "def slerp(one, two, t):\n",
    "    return (two * one.inverse())**t * one"
   ]
  },
  {
   "cell_type": "code",
   "execution_count": null,
   "metadata": {},
   "outputs": [],
   "source": [
    "q1 = angles2quat(0, 0, 0)\n",
    "q2 = angles2quat(90, 0, 0)"
   ]
  },
  {
   "cell_type": "code",
   "execution_count": null,
   "metadata": {},
   "outputs": [],
   "source": [
    "times = np.linspace(0, 1, 100)"
   ]
  },
  {
   "cell_type": "code",
   "execution_count": null,
   "metadata": {},
   "outputs": [],
   "source": [
    "rotations = [slerp(q1, q2, t) for t in times]"
   ]
  },
  {
   "cell_type": "code",
   "execution_count": null,
   "metadata": {},
   "outputs": [],
   "source": [
    "ani = animate_rotations(rotations, interval=30)\n",
    "display(HTML(ani.to_jshtml(default_mode='reflect')))"
   ]
  },
  {
   "cell_type": "code",
   "execution_count": null,
   "metadata": {},
   "outputs": [],
   "source": [
    "# TODO: show constant angular speed"
   ]
  },
  {
   "cell_type": "code",
   "execution_count": null,
   "metadata": {},
   "outputs": [],
   "source": []
  },
  {
   "cell_type": "code",
   "execution_count": null,
   "metadata": {},
   "outputs": [],
   "source": [
    "def lerp(one, two, t):\n",
    "    one = np.asarray(one)\n",
    "    two = np.asarray(two)\n",
    "    return one * (1 - t) + two * t"
   ]
  },
  {
   "cell_type": "code",
   "execution_count": null,
   "metadata": {},
   "outputs": [],
   "source": [
    "import math"
   ]
  },
  {
   "cell_type": "code",
   "execution_count": null,
   "metadata": {},
   "outputs": [],
   "source": [
    "def compare_slerp_loglerp(q1, q2):\n",
    "    dot = q1.dot(q2)\n",
    "    if dot < 0:\n",
    "        print('flipping')\n",
    "        q2 = -q2\n",
    "    print('angle:', math.degrees(2 * math.acos(q1.dot(q2))))\n",
    "    ani = animate_rotations({\n",
    "        'slerp': [slerp(q1, q2, t) for t in times],\n",
    "        'log lerp': [UnitQuaternion.exp_map(lerp(q1.log_map(), q2.log_map(), t)) for t in times],\n",
    "    }, figsize=(6, 3), interval=30)\n",
    "    display(HTML(ani.to_jshtml(default_mode='reflect')))"
   ]
  },
  {
   "cell_type": "code",
   "execution_count": null,
   "metadata": {},
   "outputs": [],
   "source": [
    "compare_slerp_loglerp(\n",
    "    angles2quat(0, 0, 0),\n",
    "    angles2quat(180, 0, 0))"
   ]
  },
  {
   "cell_type": "code",
   "execution_count": null,
   "metadata": {},
   "outputs": [],
   "source": [
    "compare_slerp_loglerp(\n",
    "    angles2quat(0, 0, 0),\n",
    "    angles2quat(-270, 0, 0))"
   ]
  },
  {
   "cell_type": "code",
   "execution_count": null,
   "metadata": {},
   "outputs": [],
   "source": [
    "compare_slerp_loglerp(\n",
    "    angles2quat(90, 0, 0),\n",
    "    angles2quat(90, 120, 179),\n",
    ")"
   ]
  },
  {
   "cell_type": "code",
   "execution_count": null,
   "metadata": {},
   "outputs": [],
   "source": [
    "compare_slerp_loglerp(\n",
    "    angles2quat(180, 0, 0),\n",
    "    angles2quat(180, 120, 179),\n",
    ")"
   ]
  },
  {
   "cell_type": "code",
   "execution_count": null,
   "metadata": {},
   "outputs": [],
   "source": [
    "compare_slerp_loglerp(\n",
    "    angles2quat(180, 0, 0),\n",
    "    angles2quat(180, 90, 90),\n",
    ")"
   ]
  },
  {
   "cell_type": "code",
   "execution_count": null,
   "metadata": {},
   "outputs": [],
   "source": []
  }
 ],
 "metadata": {
  "kernelspec": {
   "display_name": "Python 3",
   "language": "python",
   "name": "python3"
  },
  "language_info": {
   "codemirror_mode": {
    "name": "ipython",
    "version": 3
   },
   "file_extension": ".py",
   "mimetype": "text/x-python",
   "name": "python",
   "nbconvert_exporter": "python",
   "pygments_lexer": "ipython3",
   "version": "3.8.3"
  }
 },
 "nbformat": 4,
 "nbformat_minor": 4
}
