{
 "cells": [
  {
   "cell_type": "code",
   "execution_count": null,
   "metadata": {},
   "outputs": [],
   "source": [
    "from unit_quaternion import BezierSpline"
   ]
  },
  {
   "cell_type": "code",
   "execution_count": null,
   "metadata": {},
   "outputs": [],
   "source": [
    "from helper import angles2quat, prepare_axis, update_plot"
   ]
  },
  {
   "cell_type": "code",
   "execution_count": null,
   "metadata": {},
   "outputs": [],
   "source": [
    "from IPython.display import HTML\n",
    "from matplotlib.animation import FuncAnimation\n",
    "import matplotlib.pyplot as plt\n",
    "import numpy as np"
   ]
  },
  {
   "cell_type": "code",
   "execution_count": null,
   "metadata": {},
   "outputs": [],
   "source": [
    "def animate_spline(s, frames=100, interval=30, default_mode='reflect'):\n",
    "    times = np.linspace(s.grid[0], s.grid[-1], frames)\n",
    "    rotations = s.evaluate(times)\n",
    "\n",
    "    fig, ax = plt.subplots(subplot_kw=dict(projection='dumb3d'))\n",
    "    collections = prepare_axis(1, ax=ax)\n",
    "    plt.close(fig)\n",
    "\n",
    "    def ani_func(rot):\n",
    "        return update_plot(collections, [rot])\n",
    "\n",
    "    ani = FuncAnimation(fig, ani_func, frames=rotations, interval=interval)\n",
    "    display(HTML(ani.to_jshtml(default_mode=default_mode)))"
   ]
  },
  {
   "cell_type": "code",
   "execution_count": null,
   "metadata": {},
   "outputs": [],
   "source": [
    "angles = [\n",
    "    angles2quat(0, 0, 0),\n",
    "    angles2quat(90, 0, 0),\n",
    "    angles2quat(90, 90, 0),\n",
    "    angles2quat(90, 90, 90),\n",
    "]"
   ]
  },
  {
   "cell_type": "markdown",
   "metadata": {},
   "source": [
    "degree 1, piecewise linear:"
   ]
  },
  {
   "cell_type": "code",
   "execution_count": null,
   "metadata": {},
   "outputs": [],
   "source": [
    "b1 = BezierSpline(list(zip(angles, angles[1:])))"
   ]
  },
  {
   "cell_type": "code",
   "execution_count": null,
   "metadata": {},
   "outputs": [],
   "source": [
    "animate_spline(b1)"
   ]
  },
  {
   "cell_type": "markdown",
   "metadata": {},
   "source": [
    "degree 2, quadratic:"
   ]
  },
  {
   "cell_type": "code",
   "execution_count": null,
   "metadata": {},
   "outputs": [],
   "source": [
    "b2 = BezierSpline([\n",
    "    (\n",
    "        angles2quat(-45, 0, 0),\n",
    "        angles2quat(0, 45, 0),\n",
    "        angles2quat(45, 0, 0),\n",
    "    ),\n",
    "])"
   ]
  },
  {
   "cell_type": "code",
   "execution_count": null,
   "metadata": {},
   "outputs": [],
   "source": [
    "animate_spline(b2)"
   ]
  },
  {
   "cell_type": "markdown",
   "metadata": {},
   "source": [
    "degree 3, cubic:"
   ]
  },
  {
   "cell_type": "code",
   "execution_count": null,
   "metadata": {},
   "outputs": [],
   "source": [
    "b3 = BezierSpline([\n",
    "    (\n",
    "        angles2quat(-45, 0, 0),\n",
    "        angles2quat(0, 45, 0),\n",
    "        angles2quat(0, -45, 0),\n",
    "        angles2quat(45, 0, 0),\n",
    "    ),\n",
    "])"
   ]
  },
  {
   "cell_type": "code",
   "execution_count": null,
   "metadata": {},
   "outputs": [],
   "source": [
    "animate_spline(b3)"
   ]
  },
  {
   "cell_type": "code",
   "execution_count": null,
   "metadata": {},
   "outputs": [],
   "source": [
    "b4 = BezierSpline([\n",
    "    (\n",
    "        angles2quat(-45, 0, 0),\n",
    "        angles2quat(0, 90, 0),\n",
    "        angles2quat(0, -90, 0),\n",
    "        angles2quat(45, 0, 0),\n",
    "    ),\n",
    "])"
   ]
  },
  {
   "cell_type": "code",
   "execution_count": null,
   "metadata": {},
   "outputs": [],
   "source": [
    "animate_spline(b4)"
   ]
  },
  {
   "cell_type": "code",
   "execution_count": null,
   "metadata": {},
   "outputs": [],
   "source": [
    "b5 = BezierSpline([\n",
    "    (\n",
    "        angles2quat(i, 0, 0),\n",
    "        angles2quat(i + 45, 90, 0),\n",
    "        angles2quat(i + 45, -90, 0),\n",
    "        angles2quat(i + 90, 0, 0),\n",
    "    )\n",
    "    for i in [0, 90, 180, 270]\n",
    "])"
   ]
  },
  {
   "cell_type": "code",
   "execution_count": null,
   "metadata": {},
   "outputs": [],
   "source": [
    "animate_spline(b5, frames=400, default_mode='loop')"
   ]
  },
  {
   "cell_type": "code",
   "execution_count": null,
   "metadata": {},
   "outputs": [],
   "source": [
    "b6 = BezierSpline([\n",
    "    (\n",
    "        angles2quat(i, 0, 0),\n",
    "        angles2quat(i + 45, -90, 0),\n",
    "        angles2quat(i + 45, 90, 0),\n",
    "        angles2quat(i + 90, 0, 0),\n",
    "    )\n",
    "    for i in [0, 90, 180, 270]\n",
    "])"
   ]
  },
  {
   "cell_type": "code",
   "execution_count": null,
   "metadata": {},
   "outputs": [],
   "source": [
    "animate_spline(b6, frames=400, default_mode='loop')"
   ]
  },
  {
   "cell_type": "code",
   "execution_count": null,
   "metadata": {},
   "outputs": [],
   "source": []
  }
 ],
 "metadata": {
  "kernelspec": {
   "display_name": "Python 3",
   "language": "python",
   "name": "python3"
  },
  "language_info": {
   "codemirror_mode": {
    "name": "ipython",
    "version": 3
   },
   "file_extension": ".py",
   "mimetype": "text/x-python",
   "name": "python",
   "nbconvert_exporter": "python",
   "pygments_lexer": "ipython3",
   "version": "3.8.3"
  }
 },
 "nbformat": 4,
 "nbformat_minor": 4
}
