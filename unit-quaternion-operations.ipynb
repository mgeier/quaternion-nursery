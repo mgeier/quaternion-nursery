{
 "cells": [
  {
   "cell_type": "markdown",
   "metadata": {},
   "source": [
    "# Calculations with Unit Quaternions"
   ]
  },
  {
   "cell_type": "code",
   "execution_count": null,
   "metadata": {},
   "outputs": [],
   "source": [
    "# TODO identity\n",
    "# TODO a * b, b * a, a inverse, ..."
   ]
  },
  {
   "cell_type": "code",
   "execution_count": null,
   "metadata": {},
   "outputs": [],
   "source": [
    "from splines.quaternion import Quaternion\n",
    "from helper import angles2quat, plot_rotation"
   ]
  },
  {
   "cell_type": "code",
   "execution_count": null,
   "metadata": {},
   "outputs": [],
   "source": []
  },
  {
   "cell_type": "code",
   "execution_count": null,
   "metadata": {},
   "outputs": [],
   "source": [
    "identity = angles2quat(0, 0, 0)"
   ]
  },
  {
   "cell_type": "code",
   "execution_count": null,
   "metadata": {},
   "outputs": [],
   "source": [
    "a = angles2quat(90, 0, 0)\n",
    "#a = angles2quat(0, 0, 45)\n",
    "b = angles2quat(0, 45, 0)"
   ]
  },
  {
   "cell_type": "code",
   "execution_count": null,
   "metadata": {},
   "outputs": [],
   "source": [
    "plot_rotation({\n",
    "    'identity': identity,\n",
    "    'a': a,\n",
    "    'b': b,\n",
    "}, figsize=(8, 3));"
   ]
  },
  {
   "cell_type": "code",
   "execution_count": null,
   "metadata": {},
   "outputs": [],
   "source": [
    "plot_rotation({\n",
    "    'a b': a * b,\n",
    "    'b a': b * a,\n",
    "}, figsize=(6, 3));"
   ]
  },
  {
   "cell_type": "code",
   "execution_count": null,
   "metadata": {},
   "outputs": [],
   "source": [
    "plot_rotation({\n",
    "    '$a b^{-1}$': a * b.inverse(),\n",
    "    '$a^{-1} b$': a.inverse() * b,\n",
    "    '$b a^{-1}$': b * a.inverse(),\n",
    "    '$b^{-1} a$': b.inverse() * a,\n",
    "}, figsize=(9, 3));"
   ]
  },
  {
   "cell_type": "code",
   "execution_count": null,
   "metadata": {},
   "outputs": [],
   "source": [
    "c = angles2quat(45, 20, 0)\n",
    "d = angles2quat(-45, 20, 0)\n",
    "e = angles2quat(-45, 20, -45)"
   ]
  },
  {
   "cell_type": "code",
   "execution_count": null,
   "metadata": {},
   "outputs": [],
   "source": [
    "plot_rotation({\n",
    "    'c': c,\n",
    "    'd': d,\n",
    "    'e': e,\n",
    "}, figsize=(6, 2));"
   ]
  },
  {
   "cell_type": "code",
   "execution_count": null,
   "metadata": {},
   "outputs": [],
   "source": [
    "plot_rotation({\n",
    "    '$c^{-1}$': c.inverse(),\n",
    "    '$d^{-1}$': d.inverse(),\n",
    "    '$e^{-1}$': e.inverse(),\n",
    "}, figsize=(6, 2));"
   ]
  },
  {
   "cell_type": "code",
   "execution_count": null,
   "metadata": {},
   "outputs": [],
   "source": [
    "plot_rotation({\n",
    "    '$dc^{-1}$': d * c.inverse(),\n",
    "    '$cd^{-1}$': c * d.inverse(),\n",
    "    '$d^{-1}c$': d.inverse() * c,\n",
    "    '$c^{-1}d$': c.inverse() * d,\n",
    "}, figsize=(8, 2));"
   ]
  },
  {
   "cell_type": "code",
   "execution_count": null,
   "metadata": {},
   "outputs": [],
   "source": [
    "plot_rotation({\n",
    "    '$ed^{-1}$': e * d.inverse(),\n",
    "    '$de^{-1}$': d * e.inverse(),\n",
    "    '$e^{-1}d$': e.inverse() * d,\n",
    "    '$d^{-1}e$': d.inverse() * e,\n",
    "}, figsize=(8, 2));"
   ]
  },
  {
   "cell_type": "code",
   "execution_count": null,
   "metadata": {},
   "outputs": [],
   "source": [
    "f = angles2quat(90, 60, 0)\n",
    "g = angles2quat(90, 120, 0)"
   ]
  },
  {
   "cell_type": "code",
   "execution_count": null,
   "metadata": {},
   "outputs": [],
   "source": [
    "plot_rotation({\n",
    "    'f': f,\n",
    "    'g': g,\n",
    "}, figsize=(6, 2));"
   ]
  },
  {
   "cell_type": "code",
   "execution_count": null,
   "metadata": {},
   "outputs": [],
   "source": [
    "plot_rotation({\n",
    "    '$fg^{-1}$': f * g.inverse(),\n",
    "    '$gf^{-1}$': g * f.inverse(),\n",
    "    '$g^{-1}f$': g.inverse() * f,\n",
    "    '$f^{-1}g$': f.inverse() * g,\n",
    "}, figsize=(8, 2));"
   ]
  },
  {
   "cell_type": "code",
   "execution_count": null,
   "metadata": {},
   "outputs": [],
   "source": [
    "g"
   ]
  },
  {
   "cell_type": "code",
   "execution_count": null,
   "metadata": {},
   "outputs": [],
   "source": [
    "fg = g * f.inverse()\n",
    "fg"
   ]
  },
  {
   "cell_type": "code",
   "execution_count": null,
   "metadata": {},
   "outputs": [],
   "source": [
    "fg * f"
   ]
  },
  {
   "cell_type": "code",
   "execution_count": null,
   "metadata": {},
   "outputs": [],
   "source": [
    "(fg * f) - g"
   ]
  },
  {
   "cell_type": "code",
   "execution_count": null,
   "metadata": {},
   "outputs": [],
   "source": []
  },
  {
   "cell_type": "code",
   "execution_count": null,
   "metadata": {},
   "outputs": [],
   "source": [
    "(fg**0.5 * f**0.5)"
   ]
  },
  {
   "cell_type": "code",
   "execution_count": null,
   "metadata": {},
   "outputs": [],
   "source": [
    "g**0.5"
   ]
  },
  {
   "cell_type": "code",
   "execution_count": null,
   "metadata": {},
   "outputs": [],
   "source": []
  },
  {
   "cell_type": "code",
   "execution_count": null,
   "metadata": {},
   "outputs": [],
   "source": [
    "(fg**0.5 * f) * (f**0.5).inverse()"
   ]
  },
  {
   "cell_type": "code",
   "execution_count": null,
   "metadata": {},
   "outputs": [],
   "source": [
    "_ - g**0.5"
   ]
  },
  {
   "cell_type": "code",
   "execution_count": null,
   "metadata": {},
   "outputs": [],
   "source": []
  },
  {
   "cell_type": "code",
   "execution_count": null,
   "metadata": {},
   "outputs": [],
   "source": []
  },
  {
   "cell_type": "code",
   "execution_count": null,
   "metadata": {},
   "outputs": [],
   "source": []
  }
 ],
 "metadata": {
  "kernelspec": {
   "display_name": "Python 3",
   "language": "python",
   "name": "python3"
  },
  "language_info": {
   "codemirror_mode": {
    "name": "ipython",
    "version": 3
   },
   "file_extension": ".py",
   "mimetype": "text/x-python",
   "name": "python",
   "nbconvert_exporter": "python",
   "pygments_lexer": "ipython3",
   "version": "3.9.1+"
  }
 },
 "nbformat": 4,
 "nbformat_minor": 4
}
