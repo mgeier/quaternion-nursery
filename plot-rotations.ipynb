{
 "cells": [
  {
   "cell_type": "code",
   "execution_count": null,
   "metadata": {},
   "outputs": [],
   "source": [
    "#%config InlineBackend.print_figure_kwargs = {'bbox_inches': None}"
   ]
  },
  {
   "cell_type": "code",
   "execution_count": null,
   "metadata": {},
   "outputs": [],
   "source": [
    "import matplotlib.pyplot as plt\n",
    "import numpy as np\n",
    "from scipy.spatial.transform import Rotation, Slerp"
   ]
  },
  {
   "cell_type": "code",
   "execution_count": null,
   "metadata": {},
   "outputs": [],
   "source": [
    "from helper import plot_rotations"
   ]
  },
  {
   "cell_type": "code",
   "execution_count": null,
   "metadata": {},
   "outputs": [],
   "source": [
    "rot = Rotation.from_euler('ZXY', [\n",
    "    [45, 0, 0],\n",
    "    [10, 30, -15],\n",
    "], degrees=True)"
   ]
  },
  {
   "cell_type": "code",
   "execution_count": null,
   "metadata": {},
   "outputs": [],
   "source": [
    "plot_rotations(rot);"
   ]
  },
  {
   "cell_type": "code",
   "execution_count": null,
   "metadata": {},
   "outputs": [],
   "source": [
    "t = np.linspace(0, 1, 9)"
   ]
  },
  {
   "cell_type": "code",
   "execution_count": null,
   "metadata": {},
   "outputs": [],
   "source": [
    "rotations1 = Rotation.from_euler('ZXY', [\n",
    "    [-30, 40, 30],\n",
    "    [40, -40, 125],\n",
    "], degrees=True)\n",
    "slerp1 = Slerp([0, 1], rotations1)"
   ]
  },
  {
   "cell_type": "code",
   "execution_count": null,
   "metadata": {},
   "outputs": [],
   "source": [
    "plot_rotations(slerp1(t));"
   ]
  },
  {
   "cell_type": "code",
   "execution_count": null,
   "metadata": {},
   "outputs": [],
   "source": [
    "rotations2 = Rotation.from_euler('ZXY', [\n",
    "    [0, -10, 90],\n",
    "    [80, -5, 160],\n",
    "], degrees=True)\n",
    "slerp2 = Slerp([0, 1], rotations2)"
   ]
  },
  {
   "cell_type": "code",
   "execution_count": null,
   "metadata": {},
   "outputs": [],
   "source": [
    "rotations3 = Rotation.from_euler('ZXY', [\n",
    "    [80, 0, 0],\n",
    "    [-80, 0, 0],\n",
    "], degrees=True)\n",
    "slerp3 = Slerp([0, 1], rotations3)"
   ]
  },
  {
   "cell_type": "code",
   "execution_count": null,
   "metadata": {},
   "outputs": [],
   "source": [
    "fig, (ax1, ax2, ax3) = plt.subplots(nrows=3, figsize=(8, 4), subplot_kw=dict(projection='dumb3d'))\n",
    "ax1.set_title('SLERP 1')\n",
    "plot_rotations(slerp1(t), ax=ax1)\n",
    "ax2.set_title('SLERP 2')\n",
    "plot_rotations(slerp2(t), ax=ax2)\n",
    "ax3.set_title('SLERP 3')\n",
    "plot_rotations(slerp3(t), ax=ax3);"
   ]
  },
  {
   "cell_type": "code",
   "execution_count": null,
   "metadata": {},
   "outputs": [],
   "source": []
  }
 ],
 "metadata": {
  "kernelspec": {
   "display_name": "Python 3",
   "language": "python",
   "name": "python3"
  },
  "language_info": {
   "codemirror_mode": {
    "name": "ipython",
    "version": 3
   },
   "file_extension": ".py",
   "mimetype": "text/x-python",
   "name": "python",
   "nbconvert_exporter": "python",
   "pygments_lexer": "ipython3",
   "version": "3.7.6"
  }
 },
 "nbformat": 4,
 "nbformat_minor": 4
}
