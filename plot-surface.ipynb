{
 "cells": [
  {
   "cell_type": "code",
   "execution_count": null,
   "metadata": {},
   "outputs": [],
   "source": [
    "%matplotlib"
   ]
  },
  {
   "cell_type": "code",
   "execution_count": null,
   "metadata": {},
   "outputs": [],
   "source": [
    "import numpy as np\n",
    "from mpl_toolkits.mplot3d import Axes3D\n",
    "import matplotlib.pyplot as plt"
   ]
  },
  {
   "cell_type": "code",
   "execution_count": null,
   "metadata": {},
   "outputs": [],
   "source": [
    "np.meshgrid([1, 2, 3], [4, 5, 6])"
   ]
  },
  {
   "cell_type": "code",
   "execution_count": null,
   "metadata": {},
   "outputs": [],
   "source": [
    "l1 = 7\n",
    "l2 = 4"
   ]
  },
  {
   "cell_type": "code",
   "execution_count": null,
   "metadata": {},
   "outputs": [],
   "source": [
    "X = np.array([\n",
    "    [0, 0, 0, 0, 0],\n",
    "    [-1, 1, 1, -1, -1],\n",
    "    [-1, 1, 1, -1, -1],\n",
    "    [l2, l2, l2, l2, l2],\n",
    "    [l2, l2, l2, l2, l2],\n",
    "])\n",
    "\n",
    "Y = np.array([\n",
    "    [l1, l1, l1, l1, l1],\n",
    "    [l1, l1, l1, l1, l1],\n",
    "    [-1, 1, 1, -1, -1],\n",
    "    [-1, 1, 1, -1, -1],\n",
    "    [0, 0, 0, 0, 0],\n",
    "])\n",
    "\n",
    "Z = np.array([\n",
    "    [0, 0, 0, 0, 0],\n",
    "    [1, 1, -1, -1, 1],\n",
    "    [1, 1, -1, -1, 1],\n",
    "    [1, 1, -1, -1, 1],\n",
    "    [0, 0, 0, 0, 0],\n",
    "])"
   ]
  },
  {
   "cell_type": "code",
   "execution_count": null,
   "metadata": {},
   "outputs": [],
   "source": [
    "X = np.array([\n",
    "    [0, -1, -1, l2, l2],\n",
    "    [0, 1, 1, l2, l2],\n",
    "    [0, 1, 1, l2, l2],\n",
    "    [0, -1, -1, l2, l2],\n",
    "    [0, -1, -1, l2, l2],\n",
    "])\n",
    "\n",
    "Y = np.array([\n",
    "    [l1, l1, -1, -1, 0],\n",
    "    [l1, l1, 1, 1, 0],\n",
    "    [l1, l1, 1, 1, 0],\n",
    "    [l1, l1, -1, -1, 0],\n",
    "    [l1, l1, -1, -1, 0],\n",
    "])\n",
    "\n",
    "Z = np.array([\n",
    "    [0, 1, 1, 1, 0],\n",
    "    [0, 1, 1, 1, 0],\n",
    "    [0, -1, -1, -1, 0],\n",
    "    [0, -1, -1, -1, 0],\n",
    "    [0, 1, 1, 1, 0],\n",
    "])"
   ]
  },
  {
   "cell_type": "code",
   "execution_count": null,
   "metadata": {},
   "outputs": [],
   "source": []
  },
  {
   "cell_type": "code",
   "execution_count": null,
   "metadata": {},
   "outputs": [],
   "source": [
    "# TODO: don't show yet?\n",
    "ax = plt.figure().gca(projection='3d')\n",
    "ax.set_proj_type('ortho')\n",
    "ax.set_xlim(-5, 5)\n",
    "ax.set_ylim(-5, 5)\n",
    "ax.set_zlim(-5, 5)\n",
    "ax.plot_surface(X, Y, Z, color='limegreen', edgecolor='blue');"
   ]
  },
  {
   "cell_type": "code",
   "execution_count": null,
   "metadata": {},
   "outputs": [],
   "source": []
  },
  {
   "cell_type": "code",
   "execution_count": null,
   "metadata": {},
   "outputs": [],
   "source": []
  }
 ],
 "metadata": {
  "kernelspec": {
   "display_name": "Python 3",
   "language": "python",
   "name": "python3"
  },
  "language_info": {
   "codemirror_mode": {
    "name": "ipython",
    "version": 3
   },
   "file_extension": ".py",
   "mimetype": "text/x-python",
   "name": "python",
   "nbconvert_exporter": "python",
   "pygments_lexer": "ipython3",
   "version": "3.7.6"
  }
 },
 "nbformat": 4,
 "nbformat_minor": 4
}
