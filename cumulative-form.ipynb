{
 "cells": [
  {
   "cell_type": "markdown",
   "metadata": {},
   "source": [
    "See Kim, Kim, Shin 1995 (A general ...), section 4"
   ]
  },
  {
   "cell_type": "code",
   "execution_count": null,
   "metadata": {},
   "outputs": [],
   "source": [
    "from IPython.display import HTML\n",
    "import numpy as np"
   ]
  },
  {
   "cell_type": "code",
   "execution_count": null,
   "metadata": {},
   "outputs": [],
   "source": [
    "from helper import angles2quat, animate_rotations\n",
    "from unit_quaternion import UnitQuaternion"
   ]
  },
  {
   "cell_type": "code",
   "execution_count": null,
   "metadata": {},
   "outputs": [],
   "source": [
    "def alpha(i, t):\n",
    "    if t < i:\n",
    "        return 0\n",
    "    elif t >= i + 1:\n",
    "        return 1\n",
    "    else:\n",
    "        return t - i"
   ]
  },
  {
   "cell_type": "code",
   "execution_count": null,
   "metadata": {},
   "outputs": [],
   "source": [
    "# NB: math.prod() since Python 3.8\n",
    "product = np.multiply.reduce"
   ]
  },
  {
   "cell_type": "code",
   "execution_count": null,
   "metadata": {},
   "outputs": [],
   "source": [
    "def make_piecewise_slerp(qs):\n",
    "    q0 = qs[0]\n",
    "    omegas = [\n",
    "        np.asarray((q_i_1.inverse() * q_i).log_map())\n",
    "        for q_i_1, q_i in zip(qs, qs[1:])]\n",
    "    \n",
    "    def func(t):\n",
    "        return q0 * product([\n",
    "            UnitQuaternion.exp_map(omega * alpha(i, t))\n",
    "            for i, omega in enumerate(omegas)\n",
    "        ])\n",
    "    \n",
    "    return func"
   ]
  },
  {
   "cell_type": "code",
   "execution_count": null,
   "metadata": {},
   "outputs": [],
   "source": [
    "qs = [\n",
    "    angles2quat(0, 0, 0),\n",
    "    angles2quat(90, 0, 0),\n",
    "    angles2quat(90, 90, 0),\n",
    "    angles2quat(90, 90, 90),\n",
    "]"
   ]
  },
  {
   "cell_type": "code",
   "execution_count": null,
   "metadata": {},
   "outputs": [],
   "source": [
    "times = np.linspace(0, len(qs) - 1, 100)"
   ]
  },
  {
   "cell_type": "code",
   "execution_count": null,
   "metadata": {},
   "outputs": [],
   "source": [
    "piecewise_slerp = make_piecewise_slerp(qs)"
   ]
  },
  {
   "cell_type": "code",
   "execution_count": null,
   "metadata": {},
   "outputs": [],
   "source": [
    "rotations = [piecewise_slerp(t) for t in times]"
   ]
  },
  {
   "cell_type": "code",
   "execution_count": null,
   "metadata": {},
   "outputs": [],
   "source": [
    "ani = animate_rotations(rotations, interval=30)"
   ]
  },
  {
   "cell_type": "code",
   "execution_count": null,
   "metadata": {},
   "outputs": [],
   "source": [
    "display(HTML(ani.to_jshtml(default_mode='reflect')))"
   ]
  },
  {
   "cell_type": "code",
   "execution_count": null,
   "metadata": {},
   "outputs": [],
   "source": [
    "def _bernstein_bases(degree, t):\n",
    "    return [\n",
    "        _comb(degree, i) * t**i * (1 - t)**(degree - i)\n",
    "        for i in range(degree + 1)]\n",
    "\n",
    "from math import factorial as _factorial\n",
    "\n",
    "def _comb(n, k):\n",
    "    # NB: Python 3.8 has math.comb()\n",
    "    return _factorial(n) // _factorial(k) // _factorial(n - k)"
   ]
  },
  {
   "cell_type": "code",
   "execution_count": null,
   "metadata": {},
   "outputs": [],
   "source": [
    "_bernstein_bases(3, 0.7)"
   ]
  },
  {
   "cell_type": "code",
   "execution_count": null,
   "metadata": {},
   "outputs": [],
   "source": [
    "from itertools import accumulate"
   ]
  },
  {
   "cell_type": "code",
   "execution_count": null,
   "metadata": {},
   "outputs": [],
   "source": [
    "def cumulative_bases(degree, t):\n",
    "    return list(accumulate(_bernstein_bases(degree, t)[::-1]))[::-1]\n"
   ]
  },
  {
   "cell_type": "code",
   "execution_count": null,
   "metadata": {},
   "outputs": [],
   "source": [
    "cumulative_bases(3, 0.7)"
   ]
  },
  {
   "cell_type": "code",
   "execution_count": null,
   "metadata": {},
   "outputs": [],
   "source": [
    "def make_bezier(qs):\n",
    "    q0 = qs[0]\n",
    "    omegas = [\n",
    "        np.asarray((q_i_1.inverse() * q_i).log_map())\n",
    "        for q_i_1, q_i in zip(qs, qs[1:])]\n",
    "    degree = len(omegas)\n",
    "    \n",
    "    def func(t):\n",
    "        b0, *bases = cumulative_bases(degree, t)\n",
    "        assert np.isclose(b0, 1)\n",
    "        return q0 * product([\n",
    "            UnitQuaternion.exp_map(omega * basis)\n",
    "            for omega, basis in zip(omegas, bases)\n",
    "        ])\n",
    "    \n",
    "    return func"
   ]
  },
  {
   "cell_type": "code",
   "execution_count": null,
   "metadata": {},
   "outputs": [],
   "source": [
    "times = np.linspace(0, 1, 100)"
   ]
  },
  {
   "cell_type": "code",
   "execution_count": null,
   "metadata": {},
   "outputs": [],
   "source": [
    "bezier = make_bezier(qs)"
   ]
  },
  {
   "cell_type": "code",
   "execution_count": null,
   "metadata": {},
   "outputs": [],
   "source": [
    "rotations = [bezier(t) for t in times]"
   ]
  },
  {
   "cell_type": "code",
   "execution_count": null,
   "metadata": {},
   "outputs": [],
   "source": [
    "ani = animate_rotations(rotations, interval=30)"
   ]
  },
  {
   "cell_type": "code",
   "execution_count": null,
   "metadata": {},
   "outputs": [],
   "source": [
    "display(HTML(ani.to_jshtml(default_mode='reflect')))"
   ]
  },
  {
   "cell_type": "code",
   "execution_count": null,
   "metadata": {},
   "outputs": [],
   "source": []
  },
  {
   "cell_type": "code",
   "execution_count": null,
   "metadata": {},
   "outputs": [],
   "source": [
    "qs = [\n",
    "    angles2quat(-45, 0, 0),\n",
    "    angles2quat(0, 90, 0),\n",
    "    angles2quat(0, -90, 0),\n",
    "    angles2quat(45, 0, 0),\n",
    "]"
   ]
  },
  {
   "cell_type": "code",
   "execution_count": null,
   "metadata": {},
   "outputs": [],
   "source": [
    "bezier = make_bezier(qs)"
   ]
  },
  {
   "cell_type": "code",
   "execution_count": null,
   "metadata": {},
   "outputs": [],
   "source": [
    "rotations = [bezier(t) for t in times]"
   ]
  },
  {
   "cell_type": "code",
   "execution_count": null,
   "metadata": {},
   "outputs": [],
   "source": [
    "ani = animate_rotations(rotations, interval=30)"
   ]
  },
  {
   "cell_type": "code",
   "execution_count": null,
   "metadata": {},
   "outputs": [],
   "source": [
    "display(HTML(ani.to_jshtml(default_mode='reflect')))"
   ]
  },
  {
   "cell_type": "code",
   "execution_count": null,
   "metadata": {},
   "outputs": [],
   "source": []
  },
  {
   "cell_type": "code",
   "execution_count": null,
   "metadata": {},
   "outputs": [],
   "source": [
    "from unit_quaternion import BezierSpline"
   ]
  },
  {
   "cell_type": "code",
   "execution_count": null,
   "metadata": {},
   "outputs": [],
   "source": [
    "times = np.linspace(0, 1, 100)"
   ]
  },
  {
   "cell_type": "code",
   "execution_count": null,
   "metadata": {},
   "outputs": [],
   "source": [
    "control_polygons = [\n",
    "    (\n",
    "        angles2quat(i, 0, 0),\n",
    "        angles2quat(i + 45, 90, 0),\n",
    "        angles2quat(i + 45, -90, 0),\n",
    "        angles2quat(i + 90, 0, 0),\n",
    "    )\n",
    "    for i in [0, 90, 180, 270]\n",
    "]"
   ]
  },
  {
   "cell_type": "code",
   "execution_count": null,
   "metadata": {},
   "outputs": [],
   "source": [
    "cumulative = []\n",
    "for polygon in control_polygons:\n",
    "    bezier = make_bezier(polygon)\n",
    "    cumulative.extend(bezier(t) for t in times[:-1])"
   ]
  },
  {
   "cell_type": "code",
   "execution_count": null,
   "metadata": {},
   "outputs": [],
   "source": [
    "cumulative_reversed = []\n",
    "for polygon in control_polygons[::-1]:\n",
    "    bezier = make_bezier(polygon[::-1])\n",
    "    cumulative_reversed.extend(bezier(t) for t in times[1:])\n",
    "cumulative_reversed = cumulative_reversed[::-1]"
   ]
  },
  {
   "cell_type": "code",
   "execution_count": null,
   "metadata": {},
   "outputs": [],
   "source": [
    "casteljau = [\n",
    "    rotation\n",
    "    for polygon in control_polygons\n",
    "    for rotation in BezierSpline([polygon]).evaluate(times[:-1])]"
   ]
  },
  {
   "cell_type": "code",
   "execution_count": null,
   "metadata": {},
   "outputs": [],
   "source": [
    "casteljau_reversed = [\n",
    "    rotation\n",
    "    for polygon in control_polygons[::-1]\n",
    "    for rotation in BezierSpline([polygon[::-1]]).evaluate(times[1:])][::-1]"
   ]
  },
  {
   "cell_type": "code",
   "execution_count": null,
   "metadata": {},
   "outputs": [],
   "source": [
    "for one, two in zip(casteljau, casteljau_reversed):\n",
    "    assert np.isclose(one.scalar, two.scalar)\n",
    "    assert np.isclose(one.vector[0], two.vector[0])\n",
    "    assert np.isclose(one.vector[1], two.vector[1])\n",
    "    assert np.isclose(one.vector[2], two.vector[2])"
   ]
  },
  {
   "cell_type": "code",
   "execution_count": null,
   "metadata": {},
   "outputs": [],
   "source": [
    "ani = animate_rotations({\n",
    "    'De Casteljau': casteljau,\n",
    "    'Cumulative': cumulative,\n",
    "    'Cumulative reversed': cumulative_reversed,\n",
    "}, figsize=(9, 3), interval=30)"
   ]
  },
  {
   "cell_type": "code",
   "execution_count": null,
   "metadata": {},
   "outputs": [],
   "source": [
    "display(HTML(ani.to_jshtml(default_mode='loop')))"
   ]
  },
  {
   "cell_type": "code",
   "execution_count": null,
   "metadata": {},
   "outputs": [],
   "source": []
  }
 ],
 "metadata": {
  "kernelspec": {
   "display_name": "Python 3",
   "language": "python",
   "name": "python3"
  },
  "language_info": {
   "codemirror_mode": {
    "name": "ipython",
    "version": 3
   },
   "file_extension": ".py",
   "mimetype": "text/x-python",
   "name": "python",
   "nbconvert_exporter": "python",
   "pygments_lexer": "ipython3",
   "version": "3.8.3"
  }
 },
 "nbformat": 4,
 "nbformat_minor": 4
}
