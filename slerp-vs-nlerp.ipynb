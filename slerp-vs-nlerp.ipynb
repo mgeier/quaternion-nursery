{
 "cells": [
  {
   "cell_type": "code",
   "execution_count": null,
   "metadata": {},
   "outputs": [],
   "source": [
    "import matplotlib.pyplot as plt\n",
    "import numpy as np\n",
    "from scipy.spatial.transform import Rotation, Slerp"
   ]
  },
  {
   "cell_type": "code",
   "execution_count": null,
   "metadata": {},
   "outputs": [],
   "source": [
    "from helper import plot_rotations"
   ]
  },
  {
   "cell_type": "code",
   "execution_count": null,
   "metadata": {},
   "outputs": [],
   "source": [
    "class Nlerp:\n",
    "    \n",
    "    def __init__(self, one, two):\n",
    "        if isinstance(one, Rotation):\n",
    "            one = one.as_quat()\n",
    "        self._one = np.asarray(one)\n",
    "        assert self._one.shape == (4,)\n",
    "        if isinstance(two, Rotation):\n",
    "            two = two.as_quat()\n",
    "        self._two = np.asarray(two)\n",
    "        assert self._two.shape == (4,)\n",
    "        \n",
    "    def __call__(self, time):\n",
    "        assert 0 <= time <= 1\n",
    "        interp = self._one * (1 - time) + self._two * time\n",
    "        return Rotation.from_quat(interp, normalized=False)"
   ]
  },
  {
   "cell_type": "code",
   "execution_count": null,
   "metadata": {},
   "outputs": [],
   "source": [
    "rotations = Rotation.from_euler('ZXY', [\n",
    "    [0, 0, 0],\n",
    "    [-140, -120, 45],\n",
    "], degrees=True)\n",
    "slerp = Slerp([0, 1], rotations)\n",
    "nlerp = Nlerp(*rotations)"
   ]
  },
  {
   "cell_type": "code",
   "execution_count": null,
   "metadata": {},
   "outputs": [],
   "source": [
    "times = np.linspace(0, 1, 9)"
   ]
  },
  {
   "cell_type": "code",
   "execution_count": null,
   "metadata": {},
   "outputs": [],
   "source": [
    "fig, (ax1, ax2) = plt.subplots(nrows=2, figsize=(8, 3), subplot_kw=dict(projection='dumb3d'))\n",
    "ax1.set_title('SLERP')\n",
    "plot_rotations(slerp(times).as_quat(), ax=ax1)\n",
    "ax2.set_title('NLERP')\n",
    "plot_rotations([nlerp(t).as_quat() for t in times], ax=ax2);"
   ]
  },
  {
   "cell_type": "code",
   "execution_count": null,
   "metadata": {},
   "outputs": [],
   "source": [
    "rotations = Rotation.from_euler('ZXY', [\n",
    "    [0, 0, 0],\n",
    "    [150, 10, 120],\n",
    "], degrees=True)\n",
    "slerp = Slerp([0, 1], rotations)\n",
    "nlerp = Nlerp(*rotations)"
   ]
  },
  {
   "cell_type": "code",
   "execution_count": null,
   "metadata": {},
   "outputs": [],
   "source": [
    "times = np.linspace(0, 1, 11)"
   ]
  },
  {
   "cell_type": "code",
   "execution_count": null,
   "metadata": {},
   "outputs": [],
   "source": [
    "fig, (ax1, ax2) = plt.subplots(nrows=2, figsize=(8, 3), subplot_kw=dict(projection='dumb3d'))\n",
    "ax1.set_title('SLERP')\n",
    "plot_rotations(slerp(times).as_quat(), ax=ax1)\n",
    "ax2.set_title('NLERP')\n",
    "plot_rotations([nlerp(t).as_quat() for t in times], ax=ax2);"
   ]
  },
  {
   "cell_type": "code",
   "execution_count": null,
   "metadata": {},
   "outputs": [],
   "source": [
    "from helper import prepare_axis, update_plot\n",
    "from matplotlib.animation import FuncAnimation\n",
    "from IPython.display import HTML"
   ]
  },
  {
   "cell_type": "code",
   "execution_count": null,
   "metadata": {},
   "outputs": [],
   "source": [
    "times = np.linspace(0, 1, 100)"
   ]
  },
  {
   "cell_type": "code",
   "execution_count": null,
   "metadata": {},
   "outputs": [],
   "source": [
    "rotations = [\n",
    "    (slerp(t).as_quat(), nlerp(t).as_quat())\n",
    "    for t in times\n",
    "]"
   ]
  },
  {
   "cell_type": "code",
   "execution_count": null,
   "metadata": {},
   "outputs": [],
   "source": [
    "fig, ax = plt.subplots(subplot_kw=dict(projection='dumb3d'))\n",
    "collections = prepare_axis(2, ax=ax)\n",
    "plt.close(fig)"
   ]
  },
  {
   "cell_type": "code",
   "execution_count": null,
   "metadata": {},
   "outputs": [],
   "source": [
    "def ani_func(rot):\n",
    "    return update_plot(collections, rot)"
   ]
  },
  {
   "cell_type": "code",
   "execution_count": null,
   "metadata": {},
   "outputs": [],
   "source": [
    "ani = FuncAnimation(fig, ani_func, frames=rotations, interval=30)\n",
    "display(HTML(ani.to_jshtml(default_mode='reflect')))"
   ]
  },
  {
   "cell_type": "code",
   "execution_count": null,
   "metadata": {},
   "outputs": [],
   "source": []
  }
 ],
 "metadata": {
  "kernelspec": {
   "display_name": "Python 3",
   "language": "python",
   "name": "python3"
  },
  "language_info": {
   "codemirror_mode": {
    "name": "ipython",
    "version": 3
   },
   "file_extension": ".py",
   "mimetype": "text/x-python",
   "name": "python",
   "nbconvert_exporter": "python",
   "pygments_lexer": "ipython3",
   "version": "3.8.2"
  }
 },
 "nbformat": 4,
 "nbformat_minor": 4
}
