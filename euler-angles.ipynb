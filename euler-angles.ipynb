{
 "cells": [
  {
   "cell_type": "markdown",
   "metadata": {},
   "source": [
    "# Naive Interpolation of Euler Angles\n",
    "\n",
    "using https://splines.readthedocs.io/"
   ]
  },
  {
   "cell_type": "code",
   "execution_count": null,
   "metadata": {},
   "outputs": [],
   "source": [
    "from IPython.display import HTML\n",
    "from matplotlib.animation import FuncAnimation\n",
    "import matplotlib.pyplot as plt\n",
    "import numpy as np"
   ]
  },
  {
   "cell_type": "code",
   "execution_count": null,
   "metadata": {},
   "outputs": [],
   "source": [
    "import splines"
   ]
  },
  {
   "cell_type": "code",
   "execution_count": null,
   "metadata": {},
   "outputs": [],
   "source": [
    "from unit_quaternion import Quaternion\n",
    "from helper import angles2quat, prepare_axis, update_plot"
   ]
  },
  {
   "cell_type": "code",
   "execution_count": null,
   "metadata": {},
   "outputs": [],
   "source": [
    "def plot_interpolated_angles(angles):\n",
    "    # alpha=0.5: centripetal\n",
    "    s = splines.CatmullRom(angles, alpha=0.5, endconditions='closed')\n",
    "    times = np.linspace(s.grid[0], s.grid[-1], 100)\n",
    "    interpolated = s.evaluate(times)\n",
    "    rotations = [angles2quat(*abc) for abc in interpolated]\n",
    "\n",
    "    fig, ax = plt.subplots(subplot_kw=dict(projection='dumb3d'))\n",
    "    collections = prepare_axis(1, ax=ax)\n",
    "    plt.close(fig)\n",
    "\n",
    "    def ani_func(rot):\n",
    "        return update_plot(collections, [rot])\n",
    "\n",
    "    ani = FuncAnimation(fig, ani_func, frames=rotations, interval=30)\n",
    "    display(HTML(ani.to_jshtml(default_mode='loop')))"
   ]
  },
  {
   "cell_type": "code",
   "execution_count": null,
   "metadata": {},
   "outputs": [],
   "source": [
    "plot_interpolated_angles([\n",
    "    (0, 0, 0),\n",
    "    (45, 0, 0),\n",
    "    (90, 45, 0),\n",
    "    (90, 90, 0),\n",
    "    (91, 91, 0),\n",
    "    (180, 0, 90),\n",
    "])"
   ]
  },
  {
   "cell_type": "code",
   "execution_count": null,
   "metadata": {},
   "outputs": [],
   "source": [
    "plot_interpolated_angles([\n",
    "    (-175, 0, 0),\n",
    "    (175, 0, 0),\n",
    "])"
   ]
  },
  {
   "cell_type": "code",
   "execution_count": null,
   "metadata": {},
   "outputs": [],
   "source": [
    "plot_interpolated_angles([\n",
    "    (45, 45, 0),\n",
    "    (45, 90, 0),\n",
    "    (-135, 45, 180),\n",
    "])"
   ]
  },
  {
   "cell_type": "code",
   "execution_count": null,
   "metadata": {},
   "outputs": [],
   "source": []
  }
 ],
 "metadata": {
  "kernelspec": {
   "display_name": "Python 3",
   "language": "python",
   "name": "python3"
  },
  "language_info": {
   "codemirror_mode": {
    "name": "ipython",
    "version": 3
   },
   "file_extension": ".py",
   "mimetype": "text/x-python",
   "name": "python",
   "nbconvert_exporter": "python",
   "pygments_lexer": "ipython3",
   "version": "3.8.3rc1"
  }
 },
 "nbformat": 4,
 "nbformat_minor": 4
}
