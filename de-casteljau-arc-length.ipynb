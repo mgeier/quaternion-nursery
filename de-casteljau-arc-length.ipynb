{
 "cells": [
  {
   "cell_type": "markdown",
   "metadata": {},
   "source": [
    "Use the De Casteljau algorithm with SLERP on 4 given rotations.\n",
    "\n",
    "Re-parameterize by rotation angle (i.e. twice the arc-length)."
   ]
  },
  {
   "cell_type": "code",
   "execution_count": null,
   "metadata": {},
   "outputs": [],
   "source": [
    "from IPython.display import HTML"
   ]
  },
  {
   "cell_type": "code",
   "execution_count": null,
   "metadata": {},
   "outputs": [],
   "source": [
    "from matplotlib.animation import FuncAnimation\n",
    "import matplotlib.pyplot as plt\n",
    "import numpy as np"
   ]
  },
  {
   "cell_type": "code",
   "execution_count": null,
   "metadata": {},
   "outputs": [],
   "source": [
    "from unit_quaternion import Quaternion, UnitQuaternion, slerp"
   ]
  },
  {
   "cell_type": "code",
   "execution_count": null,
   "metadata": {},
   "outputs": [],
   "source": [
    "from splines import ConstantSpeedAdapter"
   ]
  },
  {
   "cell_type": "code",
   "execution_count": null,
   "metadata": {},
   "outputs": [],
   "source": [
    "from helper import angles2quat, plot_rotations, prepare_axis, update_plot"
   ]
  },
  {
   "cell_type": "code",
   "execution_count": null,
   "metadata": {},
   "outputs": [],
   "source": [
    "class BezierSegment:\n",
    "    \n",
    "    def __init__(self, q0, q1, q2, q3):\n",
    "        self.q0 = q0\n",
    "        self.q1 = q1\n",
    "        self.q2 = q2\n",
    "        self.q3 = q3\n",
    "        self.grid = [0, 1]\n",
    "        \n",
    "    def evaluate(self, t, n=0):\n",
    "        if not 0 <= t <= 1:\n",
    "            raise ValueError(f'invalid t: {t}')\n",
    "        if n == 0:\n",
    "            slerp_1_2 = slerp(self.q1, self.q2, t)\n",
    "            return slerp(\n",
    "                slerp(slerp(self.q0, self.q1, t), slerp_1_2, t),\n",
    "                slerp(slerp_1_2, slerp(self.q2, self.q3, t), t),\n",
    "                t)\n",
    "        elif n == 1:\n",
    "            slerp_1_2 = slerp(self.q1, self.q2, t)\n",
    "            one = slerp(slerp(self.q0, self.q1, t), slerp_1_2, t)\n",
    "            two = slerp(slerp_1_2, slerp(self.q2, self.q3, t), t)\n",
    "            x, y, z = (two * one.inverse()).log()\n",
    "            # NB: twice the angle, times 3 because degree 3\n",
    "            return x * 2 * 3, y * 2 * 3, z * 2 * 3\n",
    "        else:\n",
    "            raise NotImplementedError(f'invalid n: {n}')"
   ]
  },
  {
   "cell_type": "code",
   "execution_count": null,
   "metadata": {},
   "outputs": [],
   "source": [
    "b1 = BezierSegment(\n",
    "    angles2quat(0, 0, 0),\n",
    "    angles2quat(10, 0, 0),\n",
    "    angles2quat(80, 0, 0),\n",
    "    angles2quat(90, 0, 0),\n",
    ")"
   ]
  },
  {
   "cell_type": "code",
   "execution_count": null,
   "metadata": {},
   "outputs": [],
   "source": [
    "b1.grid"
   ]
  },
  {
   "cell_type": "code",
   "execution_count": null,
   "metadata": {},
   "outputs": [],
   "source": [
    "b1.evaluate(0), b1.evaluate(0.5), b1.evaluate(1)"
   ]
  },
  {
   "cell_type": "code",
   "execution_count": null,
   "metadata": {},
   "outputs": [],
   "source": [
    "b1.evaluate(0, 1)"
   ]
  },
  {
   "cell_type": "code",
   "execution_count": null,
   "metadata": {},
   "outputs": [],
   "source": [
    "b1.evaluate(0.5, 1)"
   ]
  },
  {
   "cell_type": "code",
   "execution_count": null,
   "metadata": {},
   "outputs": [],
   "source": [
    "b1.evaluate(1, 1)"
   ]
  },
  {
   "cell_type": "code",
   "execution_count": null,
   "metadata": {},
   "outputs": [],
   "source": [
    "b2 = ConstantSpeedAdapter(b1)"
   ]
  },
  {
   "cell_type": "code",
   "execution_count": null,
   "metadata": {},
   "outputs": [],
   "source": [
    "b2.grid"
   ]
  },
  {
   "cell_type": "code",
   "execution_count": null,
   "metadata": {},
   "outputs": [],
   "source": [
    "b2.evaluate(0)"
   ]
  },
  {
   "cell_type": "code",
   "execution_count": null,
   "metadata": {},
   "outputs": [],
   "source": [
    "b2.evaluate(b2.grid)"
   ]
  },
  {
   "cell_type": "code",
   "execution_count": null,
   "metadata": {},
   "outputs": [],
   "source": [
    "def generate_rotations(b1, b2):\n",
    "    max_angle = b.angle(1)\n",
    "    for t, angle in zip(np.linspace(0, 1, 100), np.linspace(0, max_angle, 100)):\n",
    "        yield (\n",
    "            b1.evaluate(t),\n",
    "            b2.evaluate(angle))"
   ]
  },
  {
   "cell_type": "code",
   "execution_count": null,
   "metadata": {},
   "outputs": [],
   "source": [
    "def generate_rotations(*args):\n",
    "    for params in zip(*(np.linspace(a.grid[0], a.grid[-1], 100) for a in args)):\n",
    "        yield [a.evaluate(param) for a, param in zip(args, params)]"
   ]
  },
  {
   "cell_type": "code",
   "execution_count": null,
   "metadata": {},
   "outputs": [],
   "source": [
    "fig, ax = plt.subplots(subplot_kw=dict(projection='dumb3d'))\n",
    "collections = prepare_axis(2, ax=ax)\n",
    "plt.close(fig)"
   ]
  },
  {
   "cell_type": "code",
   "execution_count": null,
   "metadata": {},
   "outputs": [],
   "source": [
    "def ani_func(rot):\n",
    "    return update_plot(collections, rot)"
   ]
  },
  {
   "cell_type": "code",
   "execution_count": null,
   "metadata": {},
   "outputs": [],
   "source": [
    "ani = FuncAnimation(fig, ani_func, init_func=lambda: None, frames=generate_rotations(b1, b2), interval=30)\n",
    "display(HTML(ani.to_jshtml(default_mode='reflect')))"
   ]
  },
  {
   "cell_type": "code",
   "execution_count": null,
   "metadata": {},
   "outputs": [],
   "source": [
    "b3 = BezierSegment(\n",
    "    angles2quat(0, 0, 0),\n",
    "    angles2quat(0, 90, 0),\n",
    "    angles2quat(90, -45, 0),\n",
    "    angles2quat(90, 0, 0),\n",
    ")"
   ]
  },
  {
   "cell_type": "code",
   "execution_count": null,
   "metadata": {},
   "outputs": [],
   "source": [
    "b4 = ConstantSpeedAdapter(b3)"
   ]
  },
  {
   "cell_type": "code",
   "execution_count": null,
   "metadata": {},
   "outputs": [],
   "source": [
    "fig, ax = plt.subplots(subplot_kw=dict(projection='dumb3d'))\n",
    "collections = prepare_axis(2, ax=ax)\n",
    "plt.close(fig)"
   ]
  },
  {
   "cell_type": "code",
   "execution_count": null,
   "metadata": {},
   "outputs": [],
   "source": [
    "def ani_func(rot):\n",
    "    return update_plot(collections, rot)"
   ]
  },
  {
   "cell_type": "code",
   "execution_count": null,
   "metadata": {},
   "outputs": [],
   "source": [
    "ani = FuncAnimation(fig, ani_func, init_func=lambda: None, frames=generate_rotations(b3, b4), interval=30)\n",
    "display(HTML(ani.to_jshtml(default_mode='reflect')))"
   ]
  },
  {
   "cell_type": "code",
   "execution_count": null,
   "metadata": {},
   "outputs": [],
   "source": [
    "b5 = BezierSegment(\n",
    "    angles2quat(0, 0, 0),\n",
    "    angles2quat(10, 0, -179),\n",
    "    angles2quat(20, 90, 179),\n",
    "    angles2quat(30, 90, 0),\n",
    ")"
   ]
  },
  {
   "cell_type": "code",
   "execution_count": null,
   "metadata": {},
   "outputs": [],
   "source": [
    "b6 = ConstantSpeedAdapter(b5)"
   ]
  },
  {
   "cell_type": "code",
   "execution_count": null,
   "metadata": {},
   "outputs": [],
   "source": [
    "fig, ax = plt.subplots(subplot_kw=dict(projection='dumb3d'))\n",
    "collections = prepare_axis(2, ax=ax)\n",
    "plt.close(fig)"
   ]
  },
  {
   "cell_type": "code",
   "execution_count": null,
   "metadata": {},
   "outputs": [],
   "source": [
    "def ani_func(rot):\n",
    "    return update_plot(collections, rot)"
   ]
  },
  {
   "cell_type": "code",
   "execution_count": null,
   "metadata": {},
   "outputs": [],
   "source": [
    "ani = FuncAnimation(fig, ani_func, init_func=lambda: None, frames=generate_rotations(b5, b6), interval=30)\n",
    "display(HTML(ani.to_jshtml(default_mode='reflect')))"
   ]
  },
  {
   "cell_type": "code",
   "execution_count": null,
   "metadata": {},
   "outputs": [],
   "source": []
  }
 ],
 "metadata": {
  "kernelspec": {
   "display_name": "Python 3",
   "language": "python",
   "name": "python3"
  },
  "language_info": {
   "codemirror_mode": {
    "name": "ipython",
    "version": 3
   },
   "file_extension": ".py",
   "mimetype": "text/x-python",
   "name": "python",
   "nbconvert_exporter": "python",
   "pygments_lexer": "ipython3",
   "version": "3.8.3rc1"
  }
 },
 "nbformat": 4,
 "nbformat_minor": 4
}
