{
 "cells": [
  {
   "cell_type": "markdown",
   "metadata": {},
   "source": [
    "Use the De Casteljau algorithm with SLERP on 4 given rotations.\n",
    "\n",
    "Re-parameterize by rotation angle (i.e. twice the arc-length)."
   ]
  },
  {
   "cell_type": "code",
   "execution_count": null,
   "metadata": {},
   "outputs": [],
   "source": [
    "from IPython.display import HTML"
   ]
  },
  {
   "cell_type": "code",
   "execution_count": null,
   "metadata": {},
   "outputs": [],
   "source": [
    "from matplotlib.animation import FuncAnimation\n",
    "import matplotlib.pyplot as plt\n",
    "import numpy as np"
   ]
  },
  {
   "cell_type": "code",
   "execution_count": null,
   "metadata": {},
   "outputs": [],
   "source": [
    "from unit_quaternion import Quaternion, UnitQuaternion, slerp"
   ]
  },
  {
   "cell_type": "code",
   "execution_count": null,
   "metadata": {},
   "outputs": [],
   "source": [
    "from helper import angles2quat, plot_rotations, prepare_axis, update_plot"
   ]
  },
  {
   "cell_type": "code",
   "execution_count": null,
   "metadata": {},
   "outputs": [],
   "source": [
    "class BezierSegment:\n",
    "    \n",
    "    def __init__(self, q0, q1, q2, q3):\n",
    "        self.q0 = q0\n",
    "        self.q1 = q1\n",
    "        self.q2 = q2\n",
    "        self.q3 = q3\n",
    "        \n",
    "    def evaluate(self, t):\n",
    "        slerp_1_2 = slerp(self.q1, self.q2, t)\n",
    "        return slerp(\n",
    "            slerp(slerp(self.q0, self.q1, t), slerp_1_2, t),\n",
    "            slerp(slerp_1_2, slerp(self.q2, self.q3, t), t),\n",
    "            t)\n",
    "    \n",
    "    def evaluate_constant_velocity(self, angle):\n",
    "        return self.evaluate(self._angle2time(angle))\n",
    "        \n",
    "    def angular_velocity(self, t):\n",
    "        slerp_1_2 = slerp(self.q1, self.q2, t)\n",
    "        one = slerp(slerp(self.q0, self.q1, t), slerp_1_2, t)\n",
    "        two = slerp(slerp_1_2, slerp(self.q2, self.q3, t), t)\n",
    "        x, y, z = (two * one.inverse()).log()\n",
    "        # NB: twice the angle, times 3 because degree 3\n",
    "        return x * 2 * 3, y * 2 * 3, z * 2 * 3\n",
    "        \n",
    "    def angle(self, t):\n",
    "        \n",
    "        def angular_speed(time):\n",
    "            return np.linalg.norm(self.angular_velocity(time))\n",
    "        \n",
    "        from scipy import integrate\n",
    "        value, abserr = integrate.quad(angular_speed, 0, t)\n",
    "        return value\n",
    "\n",
    "    def _angle2time(self, angle):\n",
    "        \n",
    "        def angle_diff(t):\n",
    "            return self.angle(t) - angle\n",
    "\n",
    "        from scipy.optimize import bisect\n",
    "        return bisect(angle_diff, 0, 1)"
   ]
  },
  {
   "cell_type": "code",
   "execution_count": null,
   "metadata": {},
   "outputs": [],
   "source": []
  },
  {
   "cell_type": "code",
   "execution_count": null,
   "metadata": {},
   "outputs": [],
   "source": []
  },
  {
   "cell_type": "code",
   "execution_count": null,
   "metadata": {},
   "outputs": [],
   "source": [
    "b = BezierSegment(\n",
    "    angles2quat(0, 0, 0),\n",
    "    angles2quat(10, 0, 0),\n",
    "    angles2quat(80, 0, 0),\n",
    "    angles2quat(90, 0, 0),\n",
    ")"
   ]
  },
  {
   "cell_type": "code",
   "execution_count": null,
   "metadata": {},
   "outputs": [],
   "source": [
    "b.angular_velocity(0)"
   ]
  },
  {
   "cell_type": "code",
   "execution_count": null,
   "metadata": {},
   "outputs": [],
   "source": [
    "b.angular_velocity(0.5)"
   ]
  },
  {
   "cell_type": "code",
   "execution_count": null,
   "metadata": {},
   "outputs": [],
   "source": [
    "b.angular_velocity(1)"
   ]
  },
  {
   "cell_type": "code",
   "execution_count": null,
   "metadata": {},
   "outputs": [],
   "source": [
    "b.angle(0)"
   ]
  },
  {
   "cell_type": "code",
   "execution_count": null,
   "metadata": {},
   "outputs": [],
   "source": [
    "b.angle(0.5)"
   ]
  },
  {
   "cell_type": "code",
   "execution_count": null,
   "metadata": {},
   "outputs": [],
   "source": [
    "b.angle(1)"
   ]
  },
  {
   "cell_type": "code",
   "execution_count": null,
   "metadata": {},
   "outputs": [],
   "source": [
    "def generate_rotations(b):\n",
    "    max_angle = b.angle(1)\n",
    "    for t, angle in zip(np.linspace(0, 1, 100), np.linspace(0, max_angle, 100)):\n",
    "        yield (\n",
    "            b.evaluate(t),\n",
    "            b.evaluate_constant_velocity(angle))"
   ]
  },
  {
   "cell_type": "code",
   "execution_count": null,
   "metadata": {},
   "outputs": [],
   "source": [
    "fig, ax = plt.subplots(subplot_kw=dict(projection='dumb3d'))\n",
    "collections = prepare_axis(2, ax=ax)\n",
    "plt.close(fig)"
   ]
  },
  {
   "cell_type": "code",
   "execution_count": null,
   "metadata": {},
   "outputs": [],
   "source": [
    "def ani_func(rot):\n",
    "    return update_plot(collections, rot)"
   ]
  },
  {
   "cell_type": "code",
   "execution_count": null,
   "metadata": {},
   "outputs": [],
   "source": [
    "ani = FuncAnimation(fig, ani_func, init_func=lambda: None, frames=generate_rotations(b), interval=30)\n",
    "display(HTML(ani.to_jshtml(default_mode='reflect')))"
   ]
  },
  {
   "cell_type": "code",
   "execution_count": null,
   "metadata": {},
   "outputs": [],
   "source": []
  },
  {
   "cell_type": "code",
   "execution_count": null,
   "metadata": {},
   "outputs": [],
   "source": [
    "b = BezierSegment(\n",
    "    angles2quat(0, 0, 0),\n",
    "    angles2quat(0, 90, 0),\n",
    "    angles2quat(90, -45, 0),\n",
    "    angles2quat(90, 0, 0),\n",
    ")"
   ]
  },
  {
   "cell_type": "code",
   "execution_count": null,
   "metadata": {},
   "outputs": [],
   "source": [
    "fig, ax = plt.subplots(subplot_kw=dict(projection='dumb3d'))\n",
    "collections = prepare_axis(2, ax=ax)\n",
    "plt.close(fig)"
   ]
  },
  {
   "cell_type": "code",
   "execution_count": null,
   "metadata": {},
   "outputs": [],
   "source": [
    "def ani_func(rot):\n",
    "    return update_plot(collections, rot)"
   ]
  },
  {
   "cell_type": "code",
   "execution_count": null,
   "metadata": {},
   "outputs": [],
   "source": [
    "ani = FuncAnimation(fig, ani_func, init_func=lambda: None, frames=generate_rotations(b), interval=30)\n",
    "display(HTML(ani.to_jshtml(default_mode='reflect')))"
   ]
  },
  {
   "cell_type": "code",
   "execution_count": null,
   "metadata": {},
   "outputs": [],
   "source": []
  },
  {
   "cell_type": "code",
   "execution_count": null,
   "metadata": {},
   "outputs": [],
   "source": [
    "b = BezierSegment(\n",
    "    angles2quat(0, 0, 0),\n",
    "    angles2quat(10, 0, -179),\n",
    "    angles2quat(20, 90, 179),\n",
    "    angles2quat(30, 90, 0),\n",
    ")"
   ]
  },
  {
   "cell_type": "code",
   "execution_count": null,
   "metadata": {},
   "outputs": [],
   "source": [
    "fig, ax = plt.subplots(subplot_kw=dict(projection='dumb3d'))\n",
    "collections = prepare_axis(2, ax=ax)\n",
    "plt.close(fig)"
   ]
  },
  {
   "cell_type": "code",
   "execution_count": null,
   "metadata": {},
   "outputs": [],
   "source": [
    "def ani_func(rot):\n",
    "    return update_plot(collections, rot)"
   ]
  },
  {
   "cell_type": "code",
   "execution_count": null,
   "metadata": {},
   "outputs": [],
   "source": [
    "ani = FuncAnimation(fig, ani_func, init_func=lambda: None, frames=generate_rotations(b), interval=30)\n",
    "display(HTML(ani.to_jshtml(default_mode='reflect')))"
   ]
  },
  {
   "cell_type": "code",
   "execution_count": null,
   "metadata": {},
   "outputs": [],
   "source": []
  }
 ],
 "metadata": {
  "kernelspec": {
   "display_name": "Python 3",
   "language": "python",
   "name": "python3"
  },
  "language_info": {
   "codemirror_mode": {
    "name": "ipython",
    "version": 3
   },
   "file_extension": ".py",
   "mimetype": "text/x-python",
   "name": "python",
   "nbconvert_exporter": "python",
   "pygments_lexer": "ipython3",
   "version": "3.8.3rc1"
  }
 },
 "nbformat": 4,
 "nbformat_minor": 4
}
