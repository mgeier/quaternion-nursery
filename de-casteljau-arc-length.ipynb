{
 "cells": [
  {
   "cell_type": "markdown",
   "metadata": {},
   "source": [
    "Use the De Casteljau algorithm with SLERP on 4 given rotations.\n",
    "\n",
    "Re-parameterize by rotation angle (i.e. twice the arc-length)."
   ]
  },
  {
   "cell_type": "code",
   "execution_count": null,
   "metadata": {},
   "outputs": [],
   "source": [
    "from IPython.display import HTML"
   ]
  },
  {
   "cell_type": "code",
   "execution_count": null,
   "metadata": {},
   "outputs": [],
   "source": [
    "from matplotlib.animation import FuncAnimation\n",
    "import matplotlib.pyplot as plt\n",
    "import numpy as np"
   ]
  },
  {
   "cell_type": "code",
   "execution_count": null,
   "metadata": {},
   "outputs": [],
   "source": [
    "from unit_quaternion import Quaternion, UnitQuaternion, slerp"
   ]
  },
  {
   "cell_type": "code",
   "execution_count": null,
   "metadata": {},
   "outputs": [],
   "source": [
    "from splines import ConstantSpeedAdapter"
   ]
  },
  {
   "cell_type": "code",
   "execution_count": null,
   "metadata": {},
   "outputs": [],
   "source": [
    "from helper import angles2quat, animate_rotations"
   ]
  },
  {
   "cell_type": "code",
   "execution_count": null,
   "metadata": {},
   "outputs": [],
   "source": [
    "class BezierSegment:\n",
    "    \n",
    "    def __init__(self, q0, q1, q2, q3):\n",
    "        self.q0 = q0\n",
    "        self.q1 = q1\n",
    "        self.q2 = q2\n",
    "        self.q3 = q3\n",
    "        self.grid = [0, 1]\n",
    "        \n",
    "    def evaluate(self, t, n=0):\n",
    "        if not np.isscalar(t):\n",
    "            return np.array([self.evaluate(t, n=n) for t in t])\n",
    "        if not 0 <= t <= 1:\n",
    "            raise ValueError(f'invalid t: {t}')\n",
    "        if n == 0:\n",
    "            slerp_1_2 = slerp(self.q1, self.q2, t)\n",
    "            return slerp(\n",
    "                slerp(slerp(self.q0, self.q1, t), slerp_1_2, t),\n",
    "                slerp(slerp_1_2, slerp(self.q2, self.q3, t), t),\n",
    "                t)\n",
    "        elif n == 1:\n",
    "            slerp_1_2 = slerp(self.q1, self.q2, t)\n",
    "            one = slerp(slerp(self.q0, self.q1, t), slerp_1_2, t)\n",
    "            two = slerp(slerp_1_2, slerp(self.q2, self.q3, t), t)\n",
    "            x, y, z = (two * one.inverse()).log_map()\n",
    "            # NB: twice the angle, times 3 because degree 3\n",
    "            return x * 2 * 3, y * 2 * 3, z * 2 * 3\n",
    "        else:\n",
    "            raise NotImplementedError(f'invalid n: {n}')"
   ]
  },
  {
   "cell_type": "code",
   "execution_count": null,
   "metadata": {},
   "outputs": [],
   "source": [
    "b1 = BezierSegment(\n",
    "    angles2quat(0, 0, 0),\n",
    "    angles2quat(10, 0, 0),\n",
    "    angles2quat(80, 0, 0),\n",
    "    angles2quat(90, 0, 0),\n",
    ")"
   ]
  },
  {
   "cell_type": "code",
   "execution_count": null,
   "metadata": {},
   "outputs": [],
   "source": [
    "b1.grid"
   ]
  },
  {
   "cell_type": "code",
   "execution_count": null,
   "metadata": {},
   "outputs": [],
   "source": [
    "b1.evaluate(0), b1.evaluate(0.5), b1.evaluate(1)"
   ]
  },
  {
   "cell_type": "code",
   "execution_count": null,
   "metadata": {},
   "outputs": [],
   "source": [
    "b1.evaluate(0, 1)"
   ]
  },
  {
   "cell_type": "code",
   "execution_count": null,
   "metadata": {},
   "outputs": [],
   "source": [
    "b1.evaluate(0.5, 1)"
   ]
  },
  {
   "cell_type": "code",
   "execution_count": null,
   "metadata": {},
   "outputs": [],
   "source": [
    "b1.evaluate(1, 1)"
   ]
  },
  {
   "cell_type": "code",
   "execution_count": null,
   "metadata": {},
   "outputs": [],
   "source": [
    "b2 = ConstantSpeedAdapter(b1)"
   ]
  },
  {
   "cell_type": "code",
   "execution_count": null,
   "metadata": {},
   "outputs": [],
   "source": [
    "b2.grid"
   ]
  },
  {
   "cell_type": "code",
   "execution_count": null,
   "metadata": {},
   "outputs": [],
   "source": [
    "b2.evaluate(0)"
   ]
  },
  {
   "cell_type": "code",
   "execution_count": null,
   "metadata": {},
   "outputs": [],
   "source": [
    "b2.evaluate(b2.grid)"
   ]
  },
  {
   "cell_type": "code",
   "execution_count": null,
   "metadata": {},
   "outputs": [],
   "source": [
    "def generate_rotations(s):\n",
    "    return s.evaluate(np.linspace(s.grid[0], s.grid[-1], 100))"
   ]
  },
  {
   "cell_type": "code",
   "execution_count": null,
   "metadata": {},
   "outputs": [],
   "source": [
    "ani = animate_rotations({\n",
    "    'non-constant speed': generate_rotations(b1),\n",
    "    'constant speed': generate_rotations(b2),\n",
    "}, figsize=(6, 3), interval=30)\n",
    "display(HTML(ani.to_jshtml(default_mode='reflect')))"
   ]
  },
  {
   "cell_type": "code",
   "execution_count": null,
   "metadata": {},
   "outputs": [],
   "source": [
    "b3 = BezierSegment(\n",
    "    angles2quat(0, 0, 0),\n",
    "    angles2quat(0, 90, 0),\n",
    "    angles2quat(90, -45, 0),\n",
    "    angles2quat(90, 0, 0),\n",
    ")"
   ]
  },
  {
   "cell_type": "code",
   "execution_count": null,
   "metadata": {},
   "outputs": [],
   "source": [
    "b4 = ConstantSpeedAdapter(b3)"
   ]
  },
  {
   "cell_type": "code",
   "execution_count": null,
   "metadata": {},
   "outputs": [],
   "source": [
    "ani = animate_rotations({\n",
    "    'non-constant speed': generate_rotations(b3),\n",
    "    'constant speed': generate_rotations(b4),\n",
    "}, figsize=(6, 3), interval=30)\n",
    "display(HTML(ani.to_jshtml(default_mode='reflect')))"
   ]
  },
  {
   "cell_type": "code",
   "execution_count": null,
   "metadata": {},
   "outputs": [],
   "source": [
    "b5 = BezierSegment(\n",
    "    angles2quat(0, 0, 0),\n",
    "    angles2quat(10, 0, -179),\n",
    "    angles2quat(20, 90, 179),\n",
    "    angles2quat(30, 90, 0),\n",
    ")"
   ]
  },
  {
   "cell_type": "code",
   "execution_count": null,
   "metadata": {},
   "outputs": [],
   "source": [
    "b6 = ConstantSpeedAdapter(b5)"
   ]
  },
  {
   "cell_type": "code",
   "execution_count": null,
   "metadata": {},
   "outputs": [],
   "source": [
    "ani = animate_rotations({\n",
    "    'non-constant speed': generate_rotations(b5),\n",
    "    'constant speed': generate_rotations(b6),\n",
    "}, figsize=(6, 3), interval=30)\n",
    "display(HTML(ani.to_jshtml(default_mode='reflect')))"
   ]
  },
  {
   "cell_type": "code",
   "execution_count": null,
   "metadata": {},
   "outputs": [],
   "source": []
  },
  {
   "cell_type": "markdown",
   "metadata": {},
   "source": [
    "## Bézier to Hermite"
   ]
  },
  {
   "cell_type": "code",
   "execution_count": null,
   "metadata": {},
   "outputs": [],
   "source": [
    "q1 = angles2quat(0, 0, 0)\n",
    "q2 = angles2quat(90, 0, 0)\n",
    "q3 = angles2quat(180, 0, 0)\n",
    "q4 = angles2quat(180, 90, 0)\n",
    "b7 = BezierSegment(q1, q2, q3, q4)"
   ]
  },
  {
   "cell_type": "markdown",
   "metadata": {},
   "source": [
    "start velocity:"
   ]
  },
  {
   "cell_type": "code",
   "execution_count": null,
   "metadata": {},
   "outputs": [],
   "source": [
    "b7.evaluate(0, 1)"
   ]
  },
  {
   "cell_type": "markdown",
   "metadata": {},
   "source": [
    "4.71 radians per second = 0.75 rotations per second"
   ]
  },
  {
   "cell_type": "markdown",
   "metadata": {},
   "source": [
    "end velocity:"
   ]
  },
  {
   "cell_type": "code",
   "execution_count": null,
   "metadata": {},
   "outputs": [],
   "source": [
    "b7.evaluate(1, 1)"
   ]
  },
  {
   "cell_type": "code",
   "execution_count": null,
   "metadata": {},
   "outputs": [],
   "source": [
    "chord1 = q2 * q1.inverse()"
   ]
  },
  {
   "cell_type": "code",
   "execution_count": null,
   "metadata": {},
   "outputs": [],
   "source": [
    "chord1.axis"
   ]
  },
  {
   "cell_type": "code",
   "execution_count": null,
   "metadata": {},
   "outputs": [],
   "source": [
    "chord1.angle"
   ]
  },
  {
   "cell_type": "code",
   "execution_count": null,
   "metadata": {},
   "outputs": [],
   "source": [
    "_ * 3"
   ]
  },
  {
   "cell_type": "code",
   "execution_count": null,
   "metadata": {},
   "outputs": [],
   "source": [
    "chord3 = q4 * q3.inverse()"
   ]
  },
  {
   "cell_type": "code",
   "execution_count": null,
   "metadata": {},
   "outputs": [],
   "source": [
    "chord3.axis"
   ]
  },
  {
   "cell_type": "code",
   "execution_count": null,
   "metadata": {},
   "outputs": [],
   "source": [
    "chord3.angle"
   ]
  },
  {
   "cell_type": "code",
   "execution_count": null,
   "metadata": {},
   "outputs": [],
   "source": []
  },
  {
   "cell_type": "markdown",
   "metadata": {},
   "source": [
    "## Hermite to Bézier"
   ]
  },
  {
   "cell_type": "code",
   "execution_count": null,
   "metadata": {},
   "outputs": [],
   "source": [
    "import math"
   ]
  },
  {
   "cell_type": "code",
   "execution_count": null,
   "metadata": {},
   "outputs": [],
   "source": [
    "q0 = angles2quat(-90, 0, -90)\n",
    "v0 = 0, -math.pi/2, 0\n",
    "v1 = math.pi/2, 0, 0\n",
    "q1 = angles2quat(180, 0, 0)"
   ]
  },
  {
   "cell_type": "code",
   "execution_count": null,
   "metadata": {},
   "outputs": [],
   "source": [
    "chord0 = UnitQuaternion.from_axis_angle((0, 1, 0), (1/3) * 0.1)"
   ]
  },
  {
   "cell_type": "code",
   "execution_count": null,
   "metadata": {},
   "outputs": [],
   "source": [
    "q0_hat = chord0 * q0"
   ]
  },
  {
   "cell_type": "code",
   "execution_count": null,
   "metadata": {},
   "outputs": [],
   "source": [
    "chord1 = UnitQuaternion.from_axis_angle((1, 0, 0), (1/3) * 0.1)"
   ]
  },
  {
   "cell_type": "code",
   "execution_count": null,
   "metadata": {},
   "outputs": [],
   "source": [
    "q1_hat = (q1.inverse() * chord1).inverse()"
   ]
  },
  {
   "cell_type": "code",
   "execution_count": null,
   "metadata": {},
   "outputs": [],
   "source": [
    "b8 = BezierSegment(q0, q0_hat, q1_hat, q1)"
   ]
  },
  {
   "cell_type": "code",
   "execution_count": null,
   "metadata": {},
   "outputs": [],
   "source": [
    "b8.evaluate(0, 1)"
   ]
  },
  {
   "cell_type": "code",
   "execution_count": null,
   "metadata": {},
   "outputs": [],
   "source": [
    "b8.evaluate(1, 1)"
   ]
  },
  {
   "cell_type": "code",
   "execution_count": null,
   "metadata": {},
   "outputs": [],
   "source": []
  },
  {
   "cell_type": "code",
   "execution_count": null,
   "metadata": {},
   "outputs": [],
   "source": []
  },
  {
   "cell_type": "code",
   "execution_count": null,
   "metadata": {},
   "outputs": [],
   "source": [
    "ani = animate_rotations(generate_rotations(b8), interval=30)\n",
    "display(HTML(ani.to_jshtml(default_mode='reflect')))"
   ]
  },
  {
   "cell_type": "code",
   "execution_count": null,
   "metadata": {},
   "outputs": [],
   "source": []
  }
 ],
 "metadata": {
  "kernelspec": {
   "display_name": "Python 3",
   "language": "python",
   "name": "python3"
  },
  "language_info": {
   "codemirror_mode": {
    "name": "ipython",
    "version": 3
   },
   "file_extension": ".py",
   "mimetype": "text/x-python",
   "name": "python",
   "nbconvert_exporter": "python",
   "pygments_lexer": "ipython3",
   "version": "3.8.3"
  }
 },
 "nbformat": 4,
 "nbformat_minor": 4
}
