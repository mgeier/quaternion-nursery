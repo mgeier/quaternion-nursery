{
 "cells": [
  {
   "cell_type": "code",
   "execution_count": null,
   "metadata": {},
   "outputs": [],
   "source": [
    "%matplotlib"
   ]
  },
  {
   "cell_type": "code",
   "execution_count": null,
   "metadata": {},
   "outputs": [],
   "source": [
    "import numpy as np\n",
    "from mpl_toolkits.mplot3d import Axes3D\n",
    "from mpl_toolkits.mplot3d.art3d import Poly3DCollection\n",
    "import matplotlib.pyplot as plt"
   ]
  },
  {
   "cell_type": "code",
   "execution_count": null,
   "metadata": {},
   "outputs": [],
   "source": []
  },
  {
   "cell_type": "code",
   "execution_count": null,
   "metadata": {},
   "outputs": [],
   "source": [
    "def faces():\n",
    "    yield [[1, 1, 1], [-1, 1, 1], [-1, -1, 1], [1, -1, 1]]\n",
    "    yield [[1, 1, -1], [1, -1, -1], [-1, -1, -1], [-1, 1, -1]]\n",
    "    yield [[-1, -1, 1], [-1, 1, 1], [-1, 1, -1], [-1, -1, -1]]\n",
    "    yield [[-1, -1, -1], [1, -1, -1], [1, -1, 1], [-1, -1, 1]]\n",
    "    for segment in range(4):\n",
    "        y1 = 1 + segment * 2\n",
    "        y2 = 3 + segment * 2\n",
    "        yield [[1, y1, 1], [1, y2, 1], [-1, y2, 1], [-1, y1, 1]]\n",
    "        yield [[1, y1, -1], [1, y2, -1], [1, y2, 1], [1, y1, 1]]\n",
    "        yield [[-1, y1, -1], [-1, y2, -1], [1, y2, -1], [1, y1, -1]]\n",
    "        yield [[-1, y1, 1], [-1, y2, 1], [-1, y2, -1], [-1, y1, -1]]\n",
    "    yield [[1, y2, 1], [1, y2, -1], [-1, y2, -1], [-1, y2, 1]]\n",
    "    for segment in range(2):\n",
    "        x1 = 1 + segment * 2\n",
    "        x2 = 3 + segment * 2\n",
    "        yield [[x1, -1, 1], [x2, -1, 1], [x2, 1, 1], [x1, 1, 1]]\n",
    "        yield [[x1, -1, -1], [x2, -1, -1], [x2, -1, 1], [x1, -1, 1]]\n",
    "        yield [[x1, 1, -1], [x2, 1, -1], [x2, -1, -1], [x1, -1, -1]]\n",
    "        yield [[x1, 1, 1], [x2, 1, 1], [x2, 1, -1], [x1, 1, -1]]\n",
    "    yield [[x2, -1, 1], [x2, -1, -1], [x2, 1, -1], [x2, 1, 1]]"
   ]
  },
  {
   "cell_type": "code",
   "execution_count": null,
   "metadata": {},
   "outputs": [],
   "source": []
  },
  {
   "cell_type": "code",
   "execution_count": null,
   "metadata": {},
   "outputs": [],
   "source": [
    "coll = Poly3DCollection(list(faces()), color='limegreen', alpha=0.9, edgecolor='blue', closed=True)"
   ]
  },
  {
   "cell_type": "code",
   "execution_count": null,
   "metadata": {},
   "outputs": [],
   "source": [
    "ax = plt.figure().gca(projection='3d')\n",
    "ax.set_proj_type('ortho')\n",
    "ax.set_xlim(-5, 5)\n",
    "ax.set_ylim(-5, 5)\n",
    "ax.set_zlim(-5, 5);\n",
    "ax.add_collection3d(coll)"
   ]
  },
  {
   "cell_type": "code",
   "execution_count": null,
   "metadata": {},
   "outputs": [],
   "source": []
  }
 ],
 "metadata": {
  "kernelspec": {
   "display_name": "Python 3",
   "language": "python",
   "name": "python3"
  },
  "language_info": {
   "codemirror_mode": {
    "name": "ipython",
    "version": 3
   },
   "file_extension": ".py",
   "mimetype": "text/x-python",
   "name": "python",
   "nbconvert_exporter": "python",
   "pygments_lexer": "ipython3",
   "version": "3.7.6"
  }
 },
 "nbformat": 4,
 "nbformat_minor": 4
}
