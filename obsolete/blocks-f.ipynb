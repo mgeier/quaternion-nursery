{
 "cells": [
  {
   "cell_type": "code",
   "execution_count": null,
   "metadata": {},
   "outputs": [],
   "source": [
    "%matplotlib"
   ]
  },
  {
   "cell_type": "code",
   "execution_count": null,
   "metadata": {},
   "outputs": [],
   "source": [
    "import numpy as np\n",
    "from mpl_toolkits.mplot3d import Axes3D\n",
    "from mpl_toolkits.mplot3d.art3d import Poly3DCollection\n",
    "import matplotlib.pyplot as plt"
   ]
  },
  {
   "cell_type": "code",
   "execution_count": null,
   "metadata": {},
   "outputs": [],
   "source": []
  },
  {
   "cell_type": "code",
   "execution_count": null,
   "metadata": {},
   "outputs": [],
   "source": [
    "top = np.array([[1, 1, 1], [-1, 1, 1], [-1, -1, 1], [1, -1, 1]])\n",
    "north = np.array([[ 1,  1, -1], [-1,  1, -1], [-1,  1,  1], [ 1,  1,  1]])\n",
    "east = np.array([[ 1,  1, -1], [ 1,  1,  1], [ 1, -1,  1], [ 1, -1, -1]])\n",
    "south = np.array([[ 1, -1,  1], [-1, -1,  1], [-1, -1, -1], [ 1, -1, -1]])\n",
    "west = np.array([[-1,  1,  1], [-1,  1, -1], [-1, -1, -1], [-1, -1,  1]])\n",
    "bottom = np.array([[-1,  1, -1], [ 1,  1, -1], [ 1, -1, -1], [-1, -1, -1]])"
   ]
  },
  {
   "cell_type": "code",
   "execution_count": null,
   "metadata": {},
   "outputs": [],
   "source": []
  },
  {
   "cell_type": "code",
   "execution_count": null,
   "metadata": {},
   "outputs": [],
   "source": [
    "def faces():\n",
    "    origin = np.array([0, 0, 0])\n",
    "    p = origin + [0, 0, 0]\n",
    "    yield p + top\n",
    "    yield p + west\n",
    "    yield p + bottom\n",
    "    p += [2, 0, 0]\n",
    "    yield p + top\n",
    "    yield p + north\n",
    "    yield p + bottom\n",
    "    yield p + south\n",
    "    p += [2, 0, 0]\n",
    "    yield p + top\n",
    "    yield p + north\n",
    "    yield p + bottom\n",
    "    yield p + south\n",
    "    yield p + east\n",
    "    p = origin + [0, 2, 0]\n",
    "    yield p + top\n",
    "    yield p + west\n",
    "    yield p + bottom\n",
    "    yield p + east\n",
    "    p += [0, 2, 0]\n",
    "    yield p + top\n",
    "    yield p + west\n",
    "    yield p + bottom\n",
    "    yield p + north\n",
    "    p += [2, 0, 0]\n",
    "    yield p + top\n",
    "    yield p + north\n",
    "    yield p + bottom\n",
    "    yield p + south\n",
    "    p += [2, 0, 0]\n",
    "    yield p + top\n",
    "    yield p + north\n",
    "    yield p + bottom\n",
    "    yield p + south\n",
    "    yield p + east\n",
    "    p = origin + [0, -2, 0]\n",
    "    yield p + top\n",
    "    yield p + west\n",
    "    yield p + bottom\n",
    "    yield p + east\n",
    "    p += [0, -2, 0]\n",
    "    yield p + top\n",
    "    yield p + west\n",
    "    yield p + bottom\n",
    "    yield p + east\n",
    "    yield p + south"
   ]
  },
  {
   "cell_type": "code",
   "execution_count": null,
   "metadata": {},
   "outputs": [],
   "source": []
  },
  {
   "cell_type": "code",
   "execution_count": null,
   "metadata": {},
   "outputs": [],
   "source": [
    "coll = Poly3DCollection(list(faces()), color='limegreen', alpha=0.9, edgecolor='blue', closed=True)"
   ]
  },
  {
   "cell_type": "code",
   "execution_count": null,
   "metadata": {},
   "outputs": [],
   "source": [
    "ax = plt.figure().gca(projection='3d')\n",
    "ax.set_proj_type('ortho')\n",
    "ax.set_xlim(-5, 5)\n",
    "ax.set_ylim(-5, 5)\n",
    "ax.set_zlim(-5, 5);\n",
    "ax.add_collection3d(coll)\n",
    "ax.set_xlabel('x')\n",
    "ax.set_ylabel('y')"
   ]
  },
  {
   "cell_type": "code",
   "execution_count": null,
   "metadata": {},
   "outputs": [],
   "source": []
  }
 ],
 "metadata": {
  "kernelspec": {
   "display_name": "Python 3",
   "language": "python",
   "name": "python3"
  },
  "language_info": {
   "codemirror_mode": {
    "name": "ipython",
    "version": 3
   },
   "file_extension": ".py",
   "mimetype": "text/x-python",
   "name": "python",
   "nbconvert_exporter": "python",
   "pygments_lexer": "ipython3",
   "version": "3.7.6"
  }
 },
 "nbformat": 4,
 "nbformat_minor": 4
}
