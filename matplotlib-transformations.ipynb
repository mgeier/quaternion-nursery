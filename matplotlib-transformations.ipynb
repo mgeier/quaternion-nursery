{
 "cells": [
  {
   "cell_type": "code",
   "execution_count": null,
   "metadata": {},
   "outputs": [],
   "source": [
    "import matplotlib.pyplot as plt\n",
    "from mpl_toolkits.mplot3d import proj3d, Axes3D\n",
    "from mpl_toolkits.mplot3d.art3d import Poly3DCollection\n",
    "import numpy as np"
   ]
  },
  {
   "cell_type": "code",
   "execution_count": null,
   "metadata": {},
   "outputs": [],
   "source": [
    "worldM = proj3d.world_transformation(-5, 15, -4, 0, -1, 1)\n",
    "worldM"
   ]
  },
  {
   "cell_type": "code",
   "execution_count": null,
   "metadata": {},
   "outputs": [],
   "source": [
    "worldM @ [-5, -4, -1, 1]"
   ]
  },
  {
   "cell_type": "code",
   "execution_count": null,
   "metadata": {},
   "outputs": [],
   "source": [
    "worldM @ [15, 0, 1, 1]"
   ]
  },
  {
   "cell_type": "code",
   "execution_count": null,
   "metadata": {},
   "outputs": [],
   "source": [
    "R = np.array([0.5, 0.5, 0.5])"
   ]
  },
  {
   "cell_type": "code",
   "execution_count": null,
   "metadata": {},
   "outputs": [],
   "source": [
    "dist = 1"
   ]
  },
  {
   "cell_type": "code",
   "execution_count": null,
   "metadata": {},
   "outputs": [],
   "source": [
    "E = np.array((0, 0, -0.5 * dist))"
   ]
  },
  {
   "cell_type": "code",
   "execution_count": null,
   "metadata": {},
   "outputs": [],
   "source": [
    "vvec = R - E\n",
    "vvec"
   ]
  },
  {
   "cell_type": "code",
   "execution_count": null,
   "metadata": {},
   "outputs": [],
   "source": [
    "vvec /= np.linalg.norm(vvec)\n",
    "vvec"
   ]
  },
  {
   "cell_type": "code",
   "execution_count": null,
   "metadata": {},
   "outputs": [],
   "source": [
    "V = np.array((0, 0, 1))"
   ]
  },
  {
   "cell_type": "code",
   "execution_count": null,
   "metadata": {},
   "outputs": [],
   "source": [
    "viewM = proj3d.view_transformation(E, R, V)\n",
    "viewM"
   ]
  },
  {
   "cell_type": "code",
   "execution_count": null,
   "metadata": {},
   "outputs": [],
   "source": [
    "zfront, zback = -dist, dist\n",
    "projM = proj3d.ortho_transformation(zfront, zback)\n",
    "projM"
   ]
  },
  {
   "cell_type": "code",
   "execution_count": null,
   "metadata": {},
   "outputs": [],
   "source": [
    "M0 = np.dot(viewM, worldM)\n",
    "M0"
   ]
  },
  {
   "cell_type": "code",
   "execution_count": null,
   "metadata": {},
   "outputs": [],
   "source": [
    "M = np.dot(projM, M0)\n",
    "M"
   ]
  },
  {
   "cell_type": "code",
   "execution_count": null,
   "metadata": {},
   "outputs": [],
   "source": []
  },
  {
   "cell_type": "code",
   "execution_count": null,
   "metadata": {},
   "outputs": [],
   "source": []
  },
  {
   "cell_type": "code",
   "execution_count": null,
   "metadata": {},
   "outputs": [],
   "source": [
    "plt.rcParams['figure.facecolor'] = 'cyan'\n",
    "plt.rcParams['axes.facecolor'] = 'yellow'"
   ]
  },
  {
   "cell_type": "code",
   "execution_count": null,
   "metadata": {},
   "outputs": [],
   "source": [
    "class DumbAxes3D(Axes3D):\n",
    "    \n",
    "    def __init__(self, figure, *args, **kwargs):\n",
    "        super().__init__(figure, *args, **kwargs)\n",
    "        #self.set_axis_off()\n",
    "        \n",
    "    def draw(self, renderer):\n",
    "        print('drawing')\n",
    "        #self.patch.draw(renderer)  # TODO: background patch?\n",
    "        #self.M = M\n",
    "        #renderer.M = self.M\n",
    "        #renderer.vvec = vvec\n",
    "        #renderer.eye = E\n",
    "        #renderer.get_axis_position = self.get_axis_position\n",
    "        #for child in self._children:\n",
    "        #    child.draw(renderer)\n",
    "        super().draw(renderer)"
   ]
  },
  {
   "cell_type": "code",
   "execution_count": null,
   "metadata": {},
   "outputs": [],
   "source": [
    "coll = Poly3DCollection([[0, -3, 0], [0, -1, 0], [10, -1, 0]])\n",
    "\n",
    "fig = plt.figure(figsize=(6, 3))\n",
    "\n",
    "ax = DumbAxes3D(\n",
    "    fig,\n",
    "    #rect=[0.2, 0.3, 0.7, 0.8],\n",
    "    proj_type='ortho',\n",
    ")\n",
    "\n",
    "ax.set_autoscale_on(False)\n",
    "\n",
    "ax.add_collection3d(coll)\n",
    "\n",
    "ax.set_xlim(-5, 15)\n",
    "ax.set_ylim(-5, 5)\n",
    "ax.set_zlim(-5, 5)\n",
    "\n",
    "#fig.subplots_adjust(top=1, bottom=0, left=0, right=1)"
   ]
  },
  {
   "cell_type": "code",
   "execution_count": null,
   "metadata": {},
   "outputs": [],
   "source": []
  },
  {
   "cell_type": "code",
   "execution_count": null,
   "metadata": {},
   "outputs": [],
   "source": []
  },
  {
   "cell_type": "code",
   "execution_count": null,
   "metadata": {},
   "outputs": [],
   "source": []
  },
  {
   "cell_type": "code",
   "execution_count": null,
   "metadata": {},
   "outputs": [],
   "source": []
  },
  {
   "cell_type": "code",
   "execution_count": null,
   "metadata": {},
   "outputs": [],
   "source": []
  },
  {
   "cell_type": "code",
   "execution_count": null,
   "metadata": {},
   "outputs": [],
   "source": []
  },
  {
   "cell_type": "code",
   "execution_count": null,
   "metadata": {},
   "outputs": [],
   "source": [
    "# TODO: try whether savefig() works"
   ]
  }
 ],
 "metadata": {
  "kernelspec": {
   "display_name": "Python 3",
   "language": "python",
   "name": "python3"
  },
  "language_info": {
   "codemirror_mode": {
    "name": "ipython",
    "version": 3
   },
   "file_extension": ".py",
   "mimetype": "text/x-python",
   "name": "python",
   "nbconvert_exporter": "python",
   "pygments_lexer": "ipython3",
   "version": "3.7.6"
  }
 },
 "nbformat": 4,
 "nbformat_minor": 4
}
