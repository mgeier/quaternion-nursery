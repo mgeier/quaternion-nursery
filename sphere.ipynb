{
 "cells": [
  {
   "cell_type": "markdown",
   "metadata": {},
   "source": [
    "Trying to draw a sphere (with probably some kind of marker, like an arrow, on it) ..."
   ]
  },
  {
   "cell_type": "code",
   "execution_count": null,
   "metadata": {},
   "outputs": [],
   "source": []
  },
  {
   "cell_type": "code",
   "execution_count": null,
   "metadata": {},
   "outputs": [],
   "source": []
  },
  {
   "cell_type": "code",
   "execution_count": null,
   "metadata": {},
   "outputs": [],
   "source": []
  },
  {
   "cell_type": "code",
   "execution_count": null,
   "metadata": {},
   "outputs": [],
   "source": [
    "import numpy as np\n",
    "import matplotlib.pyplot as plt\n",
    "from mpl_toolkits.mplot3d import Axes3D\n",
    "\n",
    "fig = plt.figure(figsize=(12,12), dpi=300)\n",
    "ax = fig.add_subplot(111, projection='3d')\n",
    "#ax.set_aspect('equal')\n",
    "\n",
    "u = np.linspace(0, 2 * np.pi, 100)\n",
    "v = np.linspace(0, np.pi, 100)\n",
    "\n",
    "x = 1 * np.outer(np.cos(u), np.sin(v))\n",
    "y = 1 * np.outer(np.sin(u), np.sin(v))\n",
    "z = 1 * np.outer(np.ones(np.size(u)), np.cos(v))\n",
    "#for i in range(2):\n",
    "#    ax.plot_surface(x+random.randint(-5,5), y+random.randint(-5,5), z+random.randint(-5,5),  rstride=4, cstride=4, color='b', linewidth=0, alpha=0.5)\n",
    "\n",
    "ax.plot_surface(x, y, z,  rstride=4, cstride=4, color='b', linewidth=0, alpha=0.5)\n",
    "#ax.plot(np.sin(theta),np.cos(u),0,color='k')\n",
    "#ax.plot([0]*100,np.sin(theta),np.cos(u),color='k')"
   ]
  },
  {
   "cell_type": "code",
   "execution_count": null,
   "metadata": {},
   "outputs": [],
   "source": []
  },
  {
   "cell_type": "code",
   "execution_count": null,
   "metadata": {},
   "outputs": [],
   "source": []
  },
  {
   "cell_type": "code",
   "execution_count": null,
   "metadata": {},
   "outputs": [],
   "source": []
  },
  {
   "cell_type": "code",
   "execution_count": null,
   "metadata": {},
   "outputs": [],
   "source": [
    "import numpy as np\n",
    "import matplotlib.pyplot as plt\n",
    "from mpl_toolkits.mplot3d import Axes3D\n",
    "fig = plt.figure()\n",
    "ax = fig.add_subplot(111, projection='3d')\n",
    "#ax.set_aspect('equal')\n",
    "\n",
    "u = np.linspace(0, 2 * np.pi, 100)\n",
    "v = np.linspace(0, np.pi, 100)\n",
    "\n",
    "x = 1 * np.outer(np.cos(u), np.sin(v))\n",
    "y = 1 * np.outer(np.sin(u), np.sin(v))\n",
    "z = 1 * np.outer(np.ones(np.size(u)), np.cos(v))\n",
    "#for i in range(2):\n",
    "#    ax.plot_surface(x+random.randint(-5,5), y+random.randint(-5,5), z+random.randint(-5,5),  rstride=4, cstride=4, color='b', linewidth=0, alpha=0.5)\n",
    "elev = 10.0\n",
    "rot = 80.0 / 180 * np.pi\n",
    "ax.plot_surface(x, y, z,  rstride=4, cstride=4, color='b', linewidth=0, alpha=0.5)\n",
    "#calculate vectors for \"vertical\" circle\n",
    "a = np.array([-np.sin(elev / 180 * np.pi), 0, np.cos(elev / 180 * np.pi)])\n",
    "b = np.array([0, 1, 0])\n",
    "b = b * np.cos(rot) + np.cross(a, b) * np.sin(rot) + a * np.dot(a, b) * (1 - np.cos(rot))\n",
    "ax.plot(np.sin(u),np.cos(u),0,color='k', linestyle = 'dashed')\n",
    "horiz_front = np.linspace(0, np.pi, 100)\n",
    "ax.plot(np.sin(horiz_front),np.cos(horiz_front),0,color='k')\n",
    "vert_front = np.linspace(np.pi / 2, 3 * np.pi / 2, 100)\n",
    "ax.plot(a[0] * np.sin(u) + b[0] * np.cos(u), b[1] * np.cos(u), a[2] * np.sin(u) + b[2] * np.cos(u),color='k', linestyle = 'dashed')\n",
    "ax.plot(a[0] * np.sin(vert_front) + b[0] * np.cos(vert_front), b[1] * np.cos(vert_front), a[2] * np.sin(vert_front) + b[2] * np.cos(vert_front),color='k')\n",
    "\n",
    "ax.view_init(elev = elev, azim = 0)"
   ]
  },
  {
   "cell_type": "code",
   "execution_count": null,
   "metadata": {},
   "outputs": [],
   "source": []
  },
  {
   "cell_type": "code",
   "execution_count": null,
   "metadata": {},
   "outputs": [],
   "source": []
  },
  {
   "cell_type": "code",
   "execution_count": null,
   "metadata": {},
   "outputs": [],
   "source": []
  },
  {
   "cell_type": "code",
   "execution_count": null,
   "metadata": {},
   "outputs": [],
   "source": [
    "from mpl_toolkits.mplot3d import Axes3D\n",
    "import matplotlib.pyplot as plt\n",
    "import numpy as np\n",
    "from itertools import product, combinations\n",
    "\n",
    "\n",
    "fig = plt.figure()\n",
    "ax = fig.gca(projection='3d')\n",
    "#ax.set_aspect(\"equal\")\n",
    "\n",
    "# draw cube\n",
    "r = [-1, 1]\n",
    "for s, e in combinations(np.array(list(product(r, r, r))), 2):\n",
    "    if np.sum(np.abs(s-e)) == r[1]-r[0]:\n",
    "        ax.plot3D(*zip(s, e), color=\"b\")\n",
    "\n",
    "# draw sphere\n",
    "u, v = np.mgrid[0:2*np.pi:20j, 0:np.pi:10j]\n",
    "x = np.cos(u)*np.sin(v)\n",
    "y = np.sin(u)*np.sin(v)\n",
    "z = np.cos(v)\n",
    "ax.plot_wireframe(x, y, z, color=\"r\")\n",
    "\n",
    "# draw a point\n",
    "ax.scatter([0], [0], [0], color=\"g\", s=100)\n",
    "\n",
    "# draw a vector\n",
    "from matplotlib.patches import FancyArrowPatch\n",
    "from mpl_toolkits.mplot3d import proj3d\n",
    "\n",
    "\n",
    "class Arrow3D(FancyArrowPatch):\n",
    "\n",
    "    def __init__(self, xs, ys, zs, *args, **kwargs):\n",
    "        FancyArrowPatch.__init__(self, (0, 0), (0, 0), *args, **kwargs)\n",
    "        self._verts3d = xs, ys, zs\n",
    "\n",
    "    def draw(self, renderer):\n",
    "        xs3d, ys3d, zs3d = self._verts3d\n",
    "        xs, ys, zs = proj3d.proj_transform(xs3d, ys3d, zs3d, renderer.M)\n",
    "        self.set_positions((xs[0], ys[0]), (xs[1], ys[1]))\n",
    "        FancyArrowPatch.draw(self, renderer)\n",
    "\n",
    "a = Arrow3D([0, 1], [0, 1], [0, 1], mutation_scale=20,\n",
    "            lw=1, arrowstyle=\"-|>\", color=\"k\")\n",
    "ax.add_artist(a)"
   ]
  },
  {
   "cell_type": "code",
   "execution_count": null,
   "metadata": {},
   "outputs": [],
   "source": []
  },
  {
   "cell_type": "code",
   "execution_count": null,
   "metadata": {},
   "outputs": [],
   "source": []
  },
  {
   "cell_type": "code",
   "execution_count": null,
   "metadata": {},
   "outputs": [],
   "source": [
    "from mpl_toolkits.mplot3d import Axes3D\n",
    "import matplotlib.pyplot as plt\n",
    "fig = plt.figure()\n",
    "ax = fig.gca(projection='3d')\n",
    "#ax.set_aspect(\"equal\")\n",
    "\n",
    "#draw the arrow\n",
    "ax.quiver(0,0,0,1,1,1,length=1.0)"
   ]
  },
  {
   "cell_type": "code",
   "execution_count": null,
   "metadata": {},
   "outputs": [],
   "source": []
  },
  {
   "cell_type": "markdown",
   "metadata": {},
   "source": [
    "https://stackoverflow.com/a/42915422/"
   ]
  },
  {
   "cell_type": "code",
   "execution_count": null,
   "metadata": {},
   "outputs": [],
   "source": [
    "from mpl_toolkits.mplot3d.proj3d import proj_transform\n",
    "from matplotlib.text import Annotation\n",
    "\n",
    "class Annotation3D(Annotation):\n",
    "    '''Annotate the point xyz with text s'''\n",
    "\n",
    "    def __init__(self, s, xyz, *args, **kwargs):\n",
    "        Annotation.__init__(self,s, xy=(0,0), *args, **kwargs)\n",
    "        self._verts3d = xyz        \n",
    "\n",
    "    def draw(self, renderer):\n",
    "        xs3d, ys3d, zs3d = self._verts3d\n",
    "        xs, ys, zs = proj_transform(xs3d, ys3d, zs3d, renderer.M)\n",
    "        self.xy=(xs,ys)\n",
    "        Annotation.draw(self, renderer)"
   ]
  },
  {
   "cell_type": "code",
   "execution_count": null,
   "metadata": {},
   "outputs": [],
   "source": [
    "def annotate3D(ax, s, *args, **kwargs):\n",
    "    '''add anotation text s to to Axes3d ax'''\n",
    "\n",
    "    tag = Annotation3D(s, *args, **kwargs)\n",
    "    ax.add_artist(tag)"
   ]
  },
  {
   "cell_type": "code",
   "execution_count": null,
   "metadata": {},
   "outputs": [],
   "source": [
    "import matplotlib.pyplot as plt    \n",
    "from mpl_toolkits.mplot3d import axes3d\n",
    "from mpl_toolkits.mplot3d.art3d import Line3DCollection\n",
    "\n",
    "# data: coordinates of nodes and links\n",
    "xn = [1.1, 1.9, 0.1, 0.3, 1.6, 0.8, 2.3, 1.2, 1.7, 1.0, -0.7, 0.1, 0.1, -0.9, 0.1, -0.1, 2.1, 2.7, 2.6, 2.0]\n",
    "yn = [-1.2, -2.0, -1.2, -0.7, -0.4, -2.2, -1.0, -1.3, -1.5, -2.1, -0.7, -0.3, 0.7, -0.0, -0.3, 0.7, 0.7, 0.3, 0.8, 1.2]\n",
    "zn = [-1.6, -1.5, -1.3, -2.0, -2.4, -2.1, -1.8, -2.8, -0.5, -0.8, -0.4, -1.1, -1.8, -1.5, 0.1, -0.6, 0.2, -0.1, -0.8, -0.4]\n",
    "group = [1, 1, 1, 1, 1, 1, 1, 1, 1, 1, 2, 2, 3, 2, 2, 2, 3, 3, 3, 3]\n",
    "edges = [(1, 0), (2, 0), (3, 0), (3, 2), (4, 0), (5, 0), (6, 0), (7, 0), (8, 0), (9, 0), (11, 10), (11, 3), (11, 2), (11, 0), (12, 11), (13, 11), (14, 11), (15, 11), (17, 16), (18, 16), (18, 17), (19, 16), (19, 17), (19, 18)]\n",
    "xyzn = zip(xn, yn, zn)\n",
    "segments = [(xyzn[s], xyzn[t]) for s, t in edges]                \n",
    "\n",
    "# create figure        \n",
    "fig = plt.figure(dpi=60)\n",
    "ax = fig.gca(projection='3d')\n",
    "ax.set_axis_off()\n",
    "\n",
    "# plot vertices\n",
    "ax.scatter(xn,yn,zn, marker='o', c = group, s = 64)    \n",
    "# plot edges\n",
    "edge_col = Line3DCollection(segments, lw=0.2)\n",
    "ax.add_collection3d(edge_col)\n",
    "# add vertices annotation.\n",
    "for j, xyz_ in enumerate(xyzn): \n",
    "    annotate3D(ax, s=str(j), xyz=xyz_, fontsize=10, xytext=(-3,3),\n",
    "               textcoords='offset points', ha='right',va='bottom')"
   ]
  },
  {
   "cell_type": "code",
   "execution_count": null,
   "metadata": {},
   "outputs": [],
   "source": []
  },
  {
   "cell_type": "code",
   "execution_count": null,
   "metadata": {},
   "outputs": [],
   "source": []
  },
  {
   "cell_type": "code",
   "execution_count": null,
   "metadata": {},
   "outputs": [],
   "source": []
  },
  {
   "cell_type": "code",
   "execution_count": null,
   "metadata": {},
   "outputs": [],
   "source": [
    "import matplotlib.patches as mpatches\n",
    "import matplotlib.pyplot as plt\n",
    "x_tail = 0.1\n",
    "y_tail = 0.1\n",
    "x_head = 0.9\n",
    "y_head = 0.9\n",
    "dx = x_head - x_tail\n",
    "dy = y_head - y_tail"
   ]
  },
  {
   "cell_type": "code",
   "execution_count": null,
   "metadata": {},
   "outputs": [],
   "source": [
    "fig, axs = plt.subplots(nrows=2)\n",
    "arrow = mpatches.FancyArrowPatch((x_tail, y_tail), (dx, dy),\n",
    "                                 mutation_scale=100)\n",
    "axs[0].add_patch(arrow)\n",
    "\n",
    "arrow = mpatches.FancyArrowPatch((x_tail, y_tail), (dx, dy),\n",
    "                                 mutation_scale=100)\n",
    "axs[1].add_patch(arrow)\n",
    "axs[1].set_xlim(0, 2)\n",
    "axs[1].set_ylim(0, 2)"
   ]
  },
  {
   "cell_type": "code",
   "execution_count": null,
   "metadata": {},
   "outputs": [],
   "source": [
    "fig, axs = plt.subplots(nrows=2)\n",
    "arrow = mpatches.FancyArrowPatch((x_tail, y_tail), (dx, dy),\n",
    "                                 mutation_scale=100,\n",
    "                                 transform=axs[0].transAxes)\n",
    "axs[0].add_patch(arrow)\n",
    "\n",
    "arrow = mpatches.FancyArrowPatch((x_tail, y_tail), (dx, dy),\n",
    "                                 mutation_scale=100,\n",
    "                                 transform=axs[1].transAxes)\n",
    "axs[1].add_patch(arrow)\n",
    "axs[1].set_xlim(0, 2)\n",
    "axs[1].set_ylim(0, 2)"
   ]
  },
  {
   "cell_type": "code",
   "execution_count": null,
   "metadata": {},
   "outputs": [],
   "source": [
    "fig, axs = plt.subplots(nrows=2)\n",
    "\n",
    "arrow = mpatches.Arrow(x_tail, y_tail, dx, dy)\n",
    "axs[0].add_patch(arrow)\n",
    "\n",
    "arrow = mpatches.Arrow(x_tail, y_tail, dx, dy)\n",
    "axs[1].add_patch(arrow)\n",
    "axs[1].set_xlim(0, 2)\n",
    "axs[1].set_ylim(0, 2)"
   ]
  },
  {
   "cell_type": "code",
   "execution_count": null,
   "metadata": {},
   "outputs": [],
   "source": []
  },
  {
   "cell_type": "code",
   "execution_count": null,
   "metadata": {},
   "outputs": [],
   "source": []
  },
  {
   "cell_type": "code",
   "execution_count": null,
   "metadata": {},
   "outputs": [],
   "source": []
  },
  {
   "cell_type": "code",
   "execution_count": null,
   "metadata": {},
   "outputs": [],
   "source": []
  },
  {
   "cell_type": "code",
   "execution_count": null,
   "metadata": {},
   "outputs": [],
   "source": []
  },
  {
   "cell_type": "code",
   "execution_count": null,
   "metadata": {},
   "outputs": [],
   "source": []
  },
  {
   "cell_type": "code",
   "execution_count": null,
   "metadata": {},
   "outputs": [],
   "source": [
    "from mpl_toolkits.mplot3d.art3d import patch_2d_to_3d"
   ]
  },
  {
   "cell_type": "code",
   "execution_count": null,
   "metadata": {},
   "outputs": [],
   "source": [
    "from mpl_toolkits.mplot3d import Axes3D\n",
    "from mpl_toolkits.mplot3d.art3d import Poly3DCollection\n",
    "import matplotlib.pyplot as plt"
   ]
  },
  {
   "cell_type": "code",
   "execution_count": null,
   "metadata": {},
   "outputs": [],
   "source": [
    "fig = plt.figure()\n",
    "ax = Axes3D(fig)\n",
    "x = [0,1,1,0]\n",
    "y = [0,0,1,1]\n",
    "z = [0,1,0,1]\n",
    "verts = [list(zip(x,y,z))]\n",
    "coll = Poly3DCollection(verts)\n",
    "coll.set_color('green')\n",
    "coll.set_edgecolor('k')\n",
    "ax.add_collection3d(coll)\n",
    "plt.show()"
   ]
  },
  {
   "cell_type": "code",
   "execution_count": null,
   "metadata": {},
   "outputs": [],
   "source": [
    "from matplotlib.patches import Arrow"
   ]
  },
  {
   "cell_type": "code",
   "execution_count": null,
   "metadata": {},
   "outputs": [],
   "source": [
    "arrow = Arrow(0.1, 0.1, 0.9, 0.9)"
   ]
  },
  {
   "cell_type": "code",
   "execution_count": null,
   "metadata": {},
   "outputs": [],
   "source": [
    "ax.add_patch(arrow)"
   ]
  },
  {
   "cell_type": "code",
   "execution_count": null,
   "metadata": {},
   "outputs": [],
   "source": [
    "patch_2d_to_3d(arrow, z=0.5, zdir='z')"
   ]
  },
  {
   "cell_type": "code",
   "execution_count": null,
   "metadata": {},
   "outputs": [],
   "source": [
    "fig"
   ]
  },
  {
   "cell_type": "code",
   "execution_count": null,
   "metadata": {},
   "outputs": [],
   "source": []
  }
 ],
 "metadata": {
  "kernelspec": {
   "display_name": "Python 3",
   "language": "python",
   "name": "python3"
  },
  "language_info": {
   "codemirror_mode": {
    "name": "ipython",
    "version": 3
   },
   "file_extension": ".py",
   "mimetype": "text/x-python",
   "name": "python",
   "nbconvert_exporter": "python",
   "pygments_lexer": "ipython3",
   "version": "3.7.4+"
  }
 },
 "nbformat": 4,
 "nbformat_minor": 4
}
